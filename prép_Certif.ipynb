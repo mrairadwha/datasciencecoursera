{
  "nbformat": 4,
  "nbformat_minor": 0,
  "metadata": {
    "colab": {
      "provenance": [],
      "authorship_tag": "ABX9TyO6hk8ZsHARihD8nsdcPiKv",
      "include_colab_link": true
    },
    "kernelspec": {
      "name": "python3",
      "display_name": "Python 3"
    },
    "language_info": {
      "name": "python"
    }
  },
  "cells": [
    {
      "cell_type": "markdown",
      "metadata": {
        "id": "view-in-github",
        "colab_type": "text"
      },
      "source": [
        "<a href=\"https://colab.research.google.com/github/mrairadwha/datasciencecoursera/blob/master/pr%C3%A9p_Certif.ipynb\" target=\"_parent\"><img src=\"https://colab.research.google.com/assets/colab-badge.svg\" alt=\"Open In Colab\"/></a>"
      ]
    },
    {
      "cell_type": "code",
      "execution_count": null,
      "metadata": {
        "colab": {
          "base_uri": "https://localhost:8080/"
        },
        "id": "PwT7a_lemlBn",
        "outputId": "93dc38d8-153f-4fff-a4c5-3b9fe6bec6d3"
      },
      "outputs": [
        {
          "output_type": "execute_result",
          "data": {
            "text/plain": [
              "(0.625, 2)"
            ]
          },
          "metadata": {},
          "execution_count": 5
        }
      ],
      "source": [
        "import math\n",
        "math.ceil(2.3)\n",
        "math.ceil(2.8)\n",
        "math.frexp(2.5)"
      ]
    },
    {
      "cell_type": "markdown",
      "source": [],
      "metadata": {
        "id": "dETB-agtcCMO"
      }
    },
    {
      "cell_type": "code",
      "source": [
        "a=float(input(\"Saisir chiffre\"))"
      ],
      "metadata": {
        "colab": {
          "base_uri": "https://localhost:8080/"
        },
        "id": "8COjhQjvw__c",
        "outputId": "18ca9999-b61c-4331-8d87-8ef9e58dbaeb"
      },
      "execution_count": null,
      "outputs": [
        {
          "name": "stdout",
          "output_type": "stream",
          "text": [
            "Saisir chiffre8\n"
          ]
        }
      ]
    },
    {
      "cell_type": "code",
      "source": [
        "type(a)"
      ],
      "metadata": {
        "colab": {
          "base_uri": "https://localhost:8080/"
        },
        "id": "OA2F74DlxMQr",
        "outputId": "ec04005f-aea1-49ca-f7f3-16cadaabda25"
      },
      "execution_count": null,
      "outputs": [
        {
          "output_type": "execute_result",
          "data": {
            "text/plain": [
              "float"
            ]
          },
          "metadata": {},
          "execution_count": 2
        }
      ]
    },
    {
      "cell_type": "code",
      "source": [
        "a=input()\n",
        "b=input()"
      ],
      "metadata": {
        "colab": {
          "base_uri": "https://localhost:8080/"
        },
        "id": "SoMKZItTpwIH",
        "outputId": "0edfd9f1-b730-46be-e495-562704ab07a9"
      },
      "execution_count": null,
      "outputs": [
        {
          "name": "stdout",
          "output_type": "stream",
          "text": [
            "5\n",
            "8\n"
          ]
        }
      ]
    },
    {
      "cell_type": "code",
      "source": [
        "try:\n",
        "  c=a/b\n",
        "  print(c)\n",
        "except:\n",
        "  print(\"vérifier le saisi\")\n",
        "finally:\n",
        "  print(\"end\")\n",
        "  \n",
        "\n"
      ],
      "metadata": {
        "colab": {
          "base_uri": "https://localhost:8080/"
        },
        "id": "xR0Hy6Jhp32O",
        "outputId": "d7e4259a-093e-40c8-9d9b-3b4266d5e7a9"
      },
      "execution_count": null,
      "outputs": [
        {
          "output_type": "stream",
          "name": "stdout",
          "text": [
            "vérifier le saisi\n",
            "end\n"
          ]
        }
      ]
    },
    {
      "cell_type": "code",
      "source": [
        "'samedi'>'dimanche'"
      ],
      "metadata": {
        "colab": {
          "base_uri": "https://localhost:8080/"
        },
        "id": "U6AILMJCsNg2",
        "outputId": "adc7da8b-e204-4670-c86c-082aa5219fe0"
      },
      "execution_count": null,
      "outputs": [
        {
          "output_type": "execute_result",
          "data": {
            "text/plain": [
              "True"
            ]
          },
          "metadata": {},
          "execution_count": 13
        }
      ]
    },
    {
      "cell_type": "code",
      "source": [
        "'lundi'<'mardi'"
      ],
      "metadata": {
        "colab": {
          "base_uri": "https://localhost:8080/"
        },
        "id": "ZjNau4F-synl",
        "outputId": "57589124-664d-4d17-8c6b-1df1c496ac85"
      },
      "execution_count": null,
      "outputs": [
        {
          "output_type": "execute_result",
          "data": {
            "text/plain": [
              "True"
            ]
          },
          "metadata": {},
          "execution_count": 17
        }
      ]
    },
    {
      "cell_type": "code",
      "source": [
        "x=\"oranges\"\n",
        "y=\"apples\"\n",
        "z=\"bananas\"\n",
        "data=\" {1} and {0} and {2} \"  \n",
        "print(data.format(z,y,x))"
      ],
      "metadata": {
        "colab": {
          "base_uri": "https://localhost:8080/"
        },
        "id": "8930Yt2Nyaz-",
        "outputId": "d0fb4fbd-e59b-4442-c2bf-1025fd7b55d7"
      },
      "execution_count": null,
      "outputs": [
        {
          "output_type": "stream",
          "name": "stdout",
          "text": [
            " apples and bananas and oranges \n"
          ]
        }
      ]
    },
    {
      "cell_type": "code",
      "source": [
        "#Déterminer le nombre de lignes de codes affichées à l'issu de ce code\n",
        "product=2\n",
        "n=5\n",
        "while(n!=0):\n",
        "  product *= n\n",
        "  print(product)\n",
        "  n-=1\n",
        "  if n==3: break\n",
        "#La réponse est 2"
      ],
      "metadata": {
        "colab": {
          "base_uri": "https://localhost:8080/"
        },
        "id": "sEgKOSqg0C7O",
        "outputId": "d0124591-4163-477b-cd5c-5d9b798bb3c6"
      },
      "execution_count": null,
      "outputs": [
        {
          "output_type": "stream",
          "name": "stdout",
          "text": [
            "10\n",
            "40\n"
          ]
        }
      ]
    },
    {
      "cell_type": "code",
      "source": [
        "def grosspay(hours=40, rate=25,pieces=0,piecerate=0,salary=0):\n",
        "  overtime =0\n",
        "  if pieces >0:\n",
        "    return pieces*piecerate\n",
        "  if salary >0:\n",
        "    pass\n",
        "  if hours >40:\n",
        "    overtime=(hours-40)*(1.5*rate)\n",
        "    return overtime+(40*rate)\n",
        "  else:\n",
        "    return hours*rate"
      ],
      "metadata": {
        "id": "XiLau7oI06O0"
      },
      "execution_count": null,
      "outputs": []
    },
    {
      "cell_type": "code",
      "source": [
        "grosspay(pieces=500,piecerate=4)"
      ],
      "metadata": {
        "colab": {
          "base_uri": "https://localhost:8080/"
        },
        "id": "azZCoPh_1tQX",
        "outputId": "9f639fa9-4128-46ce-9487-0207c680ee33"
      },
      "execution_count": null,
      "outputs": [
        {
          "output_type": "execute_result",
          "data": {
            "text/plain": [
              "2000"
            ]
          },
          "metadata": {},
          "execution_count": 7
        }
      ]
    },
    {
      "cell_type": "code",
      "source": [
        "40*25"
      ],
      "metadata": {
        "colab": {
          "base_uri": "https://localhost:8080/"
        },
        "id": "2hpoznjV2AFu",
        "outputId": "f916d6d6-7a10-49f3-d61f-e31c2f37cf76"
      },
      "execution_count": null,
      "outputs": [
        {
          "output_type": "execute_result",
          "data": {
            "text/plain": [
              "1000"
            ]
          },
          "metadata": {},
          "execution_count": 6
        }
      ]
    },
    {
      "cell_type": "code",
      "source": [
        "grade =76\n",
        "rank =3\n",
        "if grade>80 and rank>=3:\n",
        "  grade+=10\n",
        "elif grade >=70 and rank >3:\n",
        "  grade +=5\n",
        "else:\n",
        "  grade -=5\n",
        "print(grade)"
      ],
      "metadata": {
        "colab": {
          "base_uri": "https://localhost:8080/"
        },
        "id": "Y2Yx_oUF3n7v",
        "outputId": "1cffed2f-8418-43dc-ab71-c7597ee02d93"
      },
      "execution_count": null,
      "outputs": [
        {
          "output_type": "stream",
          "name": "stdout",
          "text": [
            "71\n"
          ]
        }
      ]
    },
    {
      "cell_type": "code",
      "source": [
        "def reverse_name(backward_name):\n",
        "  forward_name =\"\"\n",
        "  length=len(backward_name)-1\n",
        "  while length > 0:\n",
        "    forward_name +=backward_name[length]\n",
        "    length=length-1\n",
        "    return forward_name\n",
        "\n",
        "print(reverse_name(\"nohtyp\"))"
      ],
      "metadata": {
        "colab": {
          "base_uri": "https://localhost:8080/"
        },
        "id": "1pPTPaWB5KsF",
        "outputId": "c04d1292-3104-47d1-f43e-a6b3aad8820e"
      },
      "execution_count": null,
      "outputs": [
        {
          "output_type": "stream",
          "name": "stdout",
          "text": [
            "p\n"
          ]
        }
      ]
    },
    {
      "cell_type": "code",
      "source": [
        "#the calc_power function calculates exponents\n",
        "#x is the base\n",
        "#y is the exponent\n",
        "#the value of x raised to the y power is returned\n",
        "def cal_power(x,y):\n",
        "  comment=\"#return the value\"\n",
        "  return x**y #raises x to the y power"
      ],
      "metadata": {
        "id": "Gnnm28c47C78"
      },
      "execution_count": null,
      "outputs": []
    },
    {
      "cell_type": "code",
      "source": [
        "import sys\n",
        "try:\n",
        "  file_in= open(\"in.txt\",'r')\n",
        "  file_out= open(\"in.txt\",'w+')\n",
        "except IOError:\n",
        "  print(\"cannot open\", file_name)\n",
        "else:\n",
        "  i=1\n",
        "  for line in file_in:\n",
        "    print(line.rstrip())\n",
        "    file_out.write(\"line\"+str(i)+\": \"+line)\n",
        "    i=i+1\n",
        "  file_in.close()\n",
        "  file_out.close()"
      ],
      "metadata": {
        "colab": {
          "base_uri": "https://localhost:8080/",
          "height": 408
        },
        "id": "oMbxnpAp9qRb",
        "outputId": "8069ab0f-6341-4a36-d72a-1383dcb316c1"
      },
      "execution_count": null,
      "outputs": [
        {
          "output_type": "error",
          "ename": "NameError",
          "evalue": "ignored",
          "traceback": [
            "\u001b[0;31m---------------------------------------------------------------------------\u001b[0m",
            "\u001b[0;31mFileNotFoundError\u001b[0m                         Traceback (most recent call last)",
            "\u001b[0;32m<ipython-input-16-bc6a3ae69d5d>\u001b[0m in \u001b[0;36m<module>\u001b[0;34m\u001b[0m\n\u001b[1;32m      2\u001b[0m \u001b[0;32mtry\u001b[0m\u001b[0;34m:\u001b[0m\u001b[0;34m\u001b[0m\u001b[0;34m\u001b[0m\u001b[0m\n\u001b[0;32m----> 3\u001b[0;31m   \u001b[0mfile_in\u001b[0m\u001b[0;34m=\u001b[0m \u001b[0mopen\u001b[0m\u001b[0;34m(\u001b[0m\u001b[0;34m\"in.txt\"\u001b[0m\u001b[0;34m,\u001b[0m\u001b[0;34m'r'\u001b[0m\u001b[0;34m)\u001b[0m\u001b[0;34m\u001b[0m\u001b[0;34m\u001b[0m\u001b[0m\n\u001b[0m\u001b[1;32m      4\u001b[0m   \u001b[0mfile_out\u001b[0m\u001b[0;34m=\u001b[0m \u001b[0mopen\u001b[0m\u001b[0;34m(\u001b[0m\u001b[0;34m\"in.txt\"\u001b[0m\u001b[0;34m,\u001b[0m\u001b[0;34m'w+'\u001b[0m\u001b[0;34m)\u001b[0m\u001b[0;34m\u001b[0m\u001b[0;34m\u001b[0m\u001b[0m\n",
            "\u001b[0;31mFileNotFoundError\u001b[0m: [Errno 2] No such file or directory: 'in.txt'",
            "\nDuring handling of the above exception, another exception occurred:\n",
            "\u001b[0;31mNameError\u001b[0m                                 Traceback (most recent call last)",
            "\u001b[0;32m<ipython-input-16-bc6a3ae69d5d>\u001b[0m in \u001b[0;36m<module>\u001b[0;34m\u001b[0m\n\u001b[1;32m      4\u001b[0m   \u001b[0mfile_out\u001b[0m\u001b[0;34m=\u001b[0m \u001b[0mopen\u001b[0m\u001b[0;34m(\u001b[0m\u001b[0;34m\"in.txt\"\u001b[0m\u001b[0;34m,\u001b[0m\u001b[0;34m'w+'\u001b[0m\u001b[0;34m)\u001b[0m\u001b[0;34m\u001b[0m\u001b[0;34m\u001b[0m\u001b[0m\n\u001b[1;32m      5\u001b[0m \u001b[0;32mexcept\u001b[0m \u001b[0mIOError\u001b[0m\u001b[0;34m:\u001b[0m\u001b[0;34m\u001b[0m\u001b[0;34m\u001b[0m\u001b[0m\n\u001b[0;32m----> 6\u001b[0;31m   \u001b[0mprint\u001b[0m\u001b[0;34m(\u001b[0m\u001b[0;34m\"cannot open\"\u001b[0m\u001b[0;34m,\u001b[0m \u001b[0mfile_in\u001b[0m\u001b[0;34m)\u001b[0m\u001b[0;34m\u001b[0m\u001b[0;34m\u001b[0m\u001b[0m\n\u001b[0m\u001b[1;32m      7\u001b[0m \u001b[0;32melse\u001b[0m\u001b[0;34m:\u001b[0m\u001b[0;34m\u001b[0m\u001b[0;34m\u001b[0m\u001b[0m\n\u001b[1;32m      8\u001b[0m   \u001b[0mi\u001b[0m\u001b[0;34m=\u001b[0m\u001b[0;36m1\u001b[0m\u001b[0;34m\u001b[0m\u001b[0;34m\u001b[0m\u001b[0m\n",
            "\u001b[0;31mNameError\u001b[0m: name 'file_in' is not defined"
          ]
        }
      ]
    },
    {
      "cell_type": "code",
      "source": [
        "file_out= open(\"in.txt\",'w+')"
      ],
      "metadata": {
        "id": "_mDwStyC-9Ol"
      },
      "execution_count": null,
      "outputs": []
    },
    {
      "cell_type": "code",
      "source": [
        "file_out= open(\"out.txt\",'w+')"
      ],
      "metadata": {
        "id": "7Z-M-Qvt_Edb"
      },
      "execution_count": null,
      "outputs": []
    },
    {
      "cell_type": "code",
      "source": [
        "\n",
        "num1=eval(input(\"Veuillez entrer le premier nombre \"))\n",
        "num2=eval(input(\"Veuillez entrer le deuxième nombre \"))\n",
        "\n",
        "if num1==num2:\n",
        "  print(\"both numbers are equal\")\n",
        "if num1<=num2:\n",
        "  print(\"number 1 is less than number 2\")\n",
        "if num1>num2:\n",
        "  print(\"number 1 is more than number 2\")\n",
        "if num1==num2:\n",
        "  print(\"numbers are the same\")"
      ],
      "metadata": {
        "colab": {
          "base_uri": "https://localhost:8080/"
        },
        "id": "GkvMwgl1AWoj",
        "outputId": "4f34131b-f3e7-4e52-a078-e79ed0cabb2e"
      },
      "execution_count": null,
      "outputs": [
        {
          "output_type": "stream",
          "name": "stdout",
          "text": [
            "Veuillez entrer le premier nombre 5\n",
            "Veuillez entrer le deuxième nombre 5\n",
            "both numbers are equal\n",
            "number 1 is less than number 2\n",
            "numbers are the same\n"
          ]
        }
      ]
    },
    {
      "cell_type": "code",
      "source": [
        "x=\"Hello World\"\n",
        "char=\"e\"\n",
        "while x != 'Quit':\n",
        "  num=0\n",
        "  if char in x:\n",
        "    num+=1\n",
        "  print(num)\n",
        "  x=input(\"Veuillez saisir un nouveau mot ou bien QUIT pour quitter :\")"
      ],
      "metadata": {
        "colab": {
          "base_uri": "https://localhost:8080/"
        },
        "id": "aXCrA__gA-Ua",
        "outputId": "8b6c2b75-a960-4f1a-f2e5-fdf91a4d34ab"
      },
      "execution_count": null,
      "outputs": [
        {
          "name": "stdout",
          "output_type": "stream",
          "text": [
            "1\n",
            "Veuillez saisir un nouveau mot ou bien QUIT pour quitter :medrsz\n",
            "1\n",
            "Veuillez saisir un nouveau mot ou bien QUIT pour quitter :poeeerdsq\n",
            "1\n",
            "Veuillez saisir un nouveau mot ou bien QUIT pour quitter :quit\n",
            "0\n",
            "Veuillez saisir un nouveau mot ou bien QUIT pour quitter :Quit\n"
          ]
        }
      ]
    },
    {
      "cell_type": "code",
      "source": [
        "import os \n",
        "def get_first_line(filename, mode):\n",
        "  if os.path.isfile(filename):\n",
        "    with open(filename,'r') as file:\n",
        "      return file.readline()\n",
        "  else:\n",
        "    return None"
      ],
      "metadata": {
        "id": "30zuXvvzF58z"
      },
      "execution_count": null,
      "outputs": []
    },
    {
      "cell_type": "code",
      "source": [
        "def read_file(file):\n",
        "  line=None\n",
        "  if os.path.isfile(file):\n",
        "    data=open(file,'r')\n",
        "    for line in data:\n",
        "      print(line)\n"
      ],
      "metadata": {
        "id": "N-ZmUMVwG2Q7"
      },
      "execution_count": null,
      "outputs": []
    },
    {
      "cell_type": "code",
      "source": [
        "#Format du message d'affichage\n",
        "print(\"Hello world\")\n",
        "day='Monday'\n",
        "month='March'\n",
        "print(\"Hello, today is {1} of month {0}\".format(day, month))\n"
      ],
      "metadata": {
        "colab": {
          "base_uri": "https://localhost:8080/"
        },
        "id": "sSNQ_vMvvVNS",
        "outputId": "daa6fcd0-ca90-4b30-8912-c7ad31337894"
      },
      "execution_count": null,
      "outputs": [
        {
          "output_type": "stream",
          "name": "stdout",
          "text": [
            "Hello world\n",
            "Hello, today is March of month Monday\n"
          ]
        }
      ]
    },
    {
      "cell_type": "code",
      "source": [
        "#Data Types_String methods\n",
        "a=\"apple\"\n",
        "a.upper()\n",
        "a.lower()\n",
        "#-------------\n",
        "a=\"apple is a fruit    \"\n",
        "a.strip()\n",
        "a.rstrip()\n",
        "a.lstrip()\n",
        "#------------\n",
        "a.isdigit()\n",
        "a.find('a')\n",
        "#------------\n",
        "a.split(' ')"
      ],
      "metadata": {
        "colab": {
          "base_uri": "https://localhost:8080/"
        },
        "id": "Ygi5HC-ExXFJ",
        "outputId": "e1030579-e7ff-4cce-af95-b62e5dc0df8e"
      },
      "execution_count": null,
      "outputs": [
        {
          "output_type": "execute_result",
          "data": {
            "text/plain": [
              "['apple', 'is', 'a', 'fruit', '', '', '', '']"
            ]
          },
          "metadata": {},
          "execution_count": 17
        }
      ]
    },
    {
      "cell_type": "code",
      "source": [
        "#Data type Boolean\n",
        "print(bool(' '))\n",
        "print(bool(''))\n",
        "print(bool(0))\n",
        "print(bool(5))\n",
        "#True any non zero\n",
        "print(5 or 0)\n",
        "print(False +1)\n",
        "print(False+5-True)"
      ],
      "metadata": {
        "colab": {
          "base_uri": "https://localhost:8080/"
        },
        "id": "0xYJqze6yedX",
        "outputId": "76eb0ca5-1c29-4dfc-9621-e28b1282eb0e"
      },
      "execution_count": null,
      "outputs": [
        {
          "output_type": "stream",
          "name": "stdout",
          "text": [
            "True\n",
            "False\n",
            "False\n",
            "True\n",
            "5\n",
            "1\n",
            "4\n"
          ]
        }
      ]
    },
    {
      "cell_type": "code",
      "source": [
        "#Data Types_List\n",
        "\n",
        "liste=[1,2,'str','Hello',2.0]\n",
        "#ajouter un seul élément\n",
        "liste.append('a')\n",
        "print(liste)\n",
        "\n",
        "#ajouter plusieurs éléments\n",
        "liste.extend(['a','b','c'])\n",
        "print(liste)\n",
        "#ajouter plusieurs éléments à l'aide de insert\n",
        "liste.insert(0,'apple')\n",
        "print(liste)"
      ],
      "metadata": {
        "colab": {
          "base_uri": "https://localhost:8080/"
        },
        "id": "-qvEnwO8zgeR",
        "outputId": "6cc31376-a05f-46be-a649-8a7abb63b4f3"
      },
      "execution_count": null,
      "outputs": [
        {
          "output_type": "stream",
          "name": "stdout",
          "text": [
            "[1, 2, 'str', 'Hello', 2.0, 'a']\n",
            "[1, 2, 'str', 'Hello', 2.0, 'a', 'a', 'b', 'c']\n",
            "['apple', 1, 2, 'str', 'Hello', 2.0, 'a', 'a', 'b', 'c']\n"
          ]
        }
      ]
    },
    {
      "cell_type": "code",
      "source": [
        "#Control flow and loops\n",
        "#continue pass break\n",
        "#continue ignore la condition prescrite\n",
        "liste=[1,2,3,5,7,13,14,15,16]\n",
        "\n",
        "for i in liste:\n",
        "  if i==13:\n",
        "    continue\n",
        "  print(i)"
      ],
      "metadata": {
        "colab": {
          "base_uri": "https://localhost:8080/"
        },
        "id": "6FobH_ss1HH4",
        "outputId": "83414b5e-05b8-4d03-b605-8f4130f8f6a8"
      },
      "execution_count": null,
      "outputs": [
        {
          "output_type": "stream",
          "name": "stdout",
          "text": [
            "1\n",
            "2\n",
            "3\n",
            "5\n",
            "7\n",
            "14\n",
            "15\n",
            "16\n"
          ]
        }
      ]
    },
    {
      "cell_type": "code",
      "source": [
        "liste=[1,2,3,5,7,13,14,15,16]\n",
        "\n",
        "for i in liste:\n",
        "  if i==13:\n",
        "    pass\n",
        "  print(i)"
      ],
      "metadata": {
        "colab": {
          "base_uri": "https://localhost:8080/"
        },
        "id": "0zKWl7Ft2Rtp",
        "outputId": "fea27c07-01be-43b2-9ec3-4b8690528bc5"
      },
      "execution_count": null,
      "outputs": [
        {
          "output_type": "stream",
          "name": "stdout",
          "text": [
            "1\n",
            "2\n",
            "3\n",
            "5\n",
            "7\n",
            "13\n",
            "14\n",
            "15\n",
            "16\n"
          ]
        }
      ]
    },
    {
      "cell_type": "code",
      "source": [
        "liste=[1,2,3,5,7,13,14,15,16]\n",
        "\n",
        "for i in liste:\n",
        "  print(i)\n",
        "  if i==13:\n",
        "    break\n",
        "  "
      ],
      "metadata": {
        "colab": {
          "base_uri": "https://localhost:8080/"
        },
        "id": "BygmHbGd28_e",
        "outputId": "39fa74f7-8334-4740-824d-78cd9fe9774a"
      },
      "execution_count": null,
      "outputs": [
        {
          "output_type": "stream",
          "name": "stdout",
          "text": [
            "1\n",
            "2\n",
            "3\n",
            "5\n",
            "7\n",
            "13\n"
          ]
        }
      ]
    },
    {
      "cell_type": "code",
      "source": [
        "liste=[1,2,3,5,7,13,14,15,16]\n",
        "\n",
        "for i in liste:\n",
        "  \n",
        "  if i==13:\n",
        "    break\n",
        "  print(i)"
      ],
      "metadata": {
        "id": "sTR_dEGS3Srv"
      },
      "execution_count": null,
      "outputs": []
    },
    {
      "cell_type": "code",
      "source": [
        "#Utilisation de else avec for et while\n",
        "\n",
        "for i in range(1,10):\n",
        "  print(i)\n",
        "  if i==2:\n",
        "    break\n",
        "else:\n",
        "  print(\"ok\")"
      ],
      "metadata": {
        "colab": {
          "base_uri": "https://localhost:8080/"
        },
        "id": "erO4DBAY3tG4",
        "outputId": "cf488aa8-0d69-4fee-b393-601166a1dbb9"
      },
      "execution_count": null,
      "outputs": [
        {
          "output_type": "stream",
          "name": "stdout",
          "text": [
            "1\n",
            "2\n"
          ]
        }
      ]
    },
    {
      "cell_type": "code",
      "source": [
        "i=0\n",
        "while(i<4):\n",
        "  print(i,end='-')\n",
        "  i+=1.5\n",
        "  if ((i<4)==False):\n",
        "    break\n",
        "  else:\n",
        "    print(0,end=' ')"
      ],
      "metadata": {
        "colab": {
          "base_uri": "https://localhost:8080/"
        },
        "id": "8seXR95C_o6l",
        "outputId": "7753a47d-a335-4ef1-89ee-e6d9b722fd9e"
      },
      "execution_count": null,
      "outputs": [
        {
          "output_type": "stream",
          "name": "stdout",
          "text": [
            "0-0 1.5-0 3.0-"
          ]
        }
      ]
    },
    {
      "cell_type": "code",
      "source": [
        "#Tuple\n",
        "#une liste inchangée\n",
        "liste=[1,2,3,3]\n",
        "tuple1=(1,2,3,3)\n",
        "tuple1[3] = 4"
      ],
      "metadata": {
        "colab": {
          "base_uri": "https://localhost:8080/",
          "height": 200
        },
        "id": "KwwYHxSIBCuy",
        "outputId": "d4adb670-bcfd-4067-a276-91ad212d87e4"
      },
      "execution_count": null,
      "outputs": [
        {
          "output_type": "error",
          "ename": "TypeError",
          "evalue": "ignored",
          "traceback": [
            "\u001b[0;31m---------------------------------------------------------------------------\u001b[0m",
            "\u001b[0;31mTypeError\u001b[0m                                 Traceback (most recent call last)",
            "\u001b[0;32m<ipython-input-46-7c5605ebf599>\u001b[0m in \u001b[0;36m<module>\u001b[0;34m\u001b[0m\n\u001b[1;32m      3\u001b[0m \u001b[0mliste\u001b[0m\u001b[0;34m=\u001b[0m\u001b[0;34m[\u001b[0m\u001b[0;36m1\u001b[0m\u001b[0;34m,\u001b[0m\u001b[0;36m2\u001b[0m\u001b[0;34m,\u001b[0m\u001b[0;36m3\u001b[0m\u001b[0;34m,\u001b[0m\u001b[0;36m3\u001b[0m\u001b[0;34m]\u001b[0m\u001b[0;34m\u001b[0m\u001b[0;34m\u001b[0m\u001b[0m\n\u001b[1;32m      4\u001b[0m \u001b[0mtuple1\u001b[0m\u001b[0;34m=\u001b[0m\u001b[0;34m(\u001b[0m\u001b[0;36m1\u001b[0m\u001b[0;34m,\u001b[0m\u001b[0;36m2\u001b[0m\u001b[0;34m,\u001b[0m\u001b[0;36m3\u001b[0m\u001b[0;34m,\u001b[0m\u001b[0;36m3\u001b[0m\u001b[0;34m)\u001b[0m\u001b[0;34m\u001b[0m\u001b[0;34m\u001b[0m\u001b[0m\n\u001b[0;32m----> 5\u001b[0;31m \u001b[0mtuple1\u001b[0m\u001b[0;34m[\u001b[0m\u001b[0;36m3\u001b[0m\u001b[0;34m]\u001b[0m\u001b[0;34m=\u001b[0m\u001b[0;36m4\u001b[0m\u001b[0;34m\u001b[0m\u001b[0;34m\u001b[0m\u001b[0m\n\u001b[0m",
            "\u001b[0;31mTypeError\u001b[0m: 'tuple' object does not support item assignment"
          ]
        }
      ]
    },
    {
      "cell_type": "code",
      "source": [
        "print(tuple[3])"
      ],
      "metadata": {
        "colab": {
          "base_uri": "https://localhost:8080/"
        },
        "id": "S8aNZBanCjFq",
        "outputId": "9052eb80-c423-464d-e4f7-95c1555ace19"
      },
      "execution_count": null,
      "outputs": [
        {
          "output_type": "stream",
          "name": "stdout",
          "text": [
            "tuple[3]\n"
          ]
        }
      ]
    },
    {
      "cell_type": "code",
      "source": [
        "import math\n",
        "print(math.factorial(0.01))"
      ],
      "metadata": {
        "colab": {
          "base_uri": "https://localhost:8080/",
          "height": 238
        },
        "id": "9cF5nBxBObkh",
        "outputId": "cbc84f5a-3ad0-462f-ae66-501917b4bd7d"
      },
      "execution_count": null,
      "outputs": [
        {
          "output_type": "stream",
          "name": "stderr",
          "text": [
            "<ipython-input-52-6af70c296c03>:2: DeprecationWarning: Using factorial() with floats is deprecated\n",
            "  print(math.factorial(0.01))\n"
          ]
        },
        {
          "output_type": "error",
          "ename": "ValueError",
          "evalue": "ignored",
          "traceback": [
            "\u001b[0;31m---------------------------------------------------------------------------\u001b[0m",
            "\u001b[0;31mValueError\u001b[0m                                Traceback (most recent call last)",
            "\u001b[0;32m<ipython-input-52-6af70c296c03>\u001b[0m in \u001b[0;36m<module>\u001b[0;34m\u001b[0m\n\u001b[1;32m      1\u001b[0m \u001b[0;32mimport\u001b[0m \u001b[0mmath\u001b[0m\u001b[0;34m\u001b[0m\u001b[0;34m\u001b[0m\u001b[0m\n\u001b[0;32m----> 2\u001b[0;31m \u001b[0mprint\u001b[0m\u001b[0;34m(\u001b[0m\u001b[0mmath\u001b[0m\u001b[0;34m.\u001b[0m\u001b[0mfactorial\u001b[0m\u001b[0;34m(\u001b[0m\u001b[0;36m0.01\u001b[0m\u001b[0;34m)\u001b[0m\u001b[0;34m)\u001b[0m\u001b[0;34m\u001b[0m\u001b[0;34m\u001b[0m\u001b[0m\n\u001b[0m",
            "\u001b[0;31mValueError\u001b[0m: factorial() only accepts integral values"
          ]
        }
      ]
    },
    {
      "cell_type": "code",
      "source": [
        "print(int('0b100',2))"
      ],
      "metadata": {
        "colab": {
          "base_uri": "https://localhost:8080/"
        },
        "id": "nUYiL6DSOlkI",
        "outputId": "e28dd9a6-7977-4c5f-cb1c-095fd620a834"
      },
      "execution_count": null,
      "outputs": [
        {
          "output_type": "stream",
          "name": "stdout",
          "text": [
            "4\n"
          ]
        }
      ]
    },
    {
      "cell_type": "code",
      "source": [
        "var1='5555'\n",
        "var2='56'\n",
        "print(var2>var1)"
      ],
      "metadata": {
        "colab": {
          "base_uri": "https://localhost:8080/"
        },
        "id": "t01Rqu7FSB71",
        "outputId": "cfff108f-c53c-4a09-b828-966ffac3692e"
      },
      "execution_count": null,
      "outputs": [
        {
          "output_type": "stream",
          "name": "stdout",
          "text": [
            "True\n"
          ]
        }
      ]
    },
    {
      "cell_type": "code",
      "source": [
        "def show(x):\n",
        "  print(x)\n",
        "  return 0\n"
      ],
      "metadata": {
        "id": "dhqMZ1QkW5St"
      },
      "execution_count": null,
      "outputs": []
    },
    {
      "cell_type": "code",
      "source": [
        "print(show(1)&show(2)+show(3)*show(4)**show(5))"
      ],
      "metadata": {
        "colab": {
          "base_uri": "https://localhost:8080/"
        },
        "id": "UkXJq6qwXGM1",
        "outputId": "72c173b7-fcaa-4fdb-bd72-a0c17a91f6dd"
      },
      "execution_count": null,
      "outputs": [
        {
          "output_type": "stream",
          "name": "stdout",
          "text": [
            "1\n",
            "2\n",
            "3\n",
            "4\n",
            "5\n",
            "0\n"
          ]
        }
      ]
    },
    {
      "cell_type": "code",
      "source": [
        "#The output of the following code\n",
        "{1,1.00,1.0,1,3,3.000,3.0,3.00}"
      ],
      "metadata": {
        "colab": {
          "base_uri": "https://localhost:8080/"
        },
        "id": "2f5Dn5pNXXb-",
        "outputId": "e6999600-30dd-47f1-c696-109ffe927356"
      },
      "execution_count": null,
      "outputs": [
        {
          "output_type": "execute_result",
          "data": {
            "text/plain": [
              "{1, 3}"
            ]
          },
          "metadata": {},
          "execution_count": 61
        }
      ]
    },
    {
      "cell_type": "code",
      "source": [
        "#Choose the correct output\n",
        "if((0.1+0.2)==0.3):\n",
        "  print('if')\n",
        "elif((0.3+0.4)==0.7):\n",
        "  print('elif')\n",
        "else:\n",
        "  print(\"else\")\n"
      ],
      "metadata": {
        "colab": {
          "base_uri": "https://localhost:8080/"
        },
        "id": "GZumi_rqZGu1",
        "outputId": "9ed5d2ca-3c3f-4b2f-8ce4-29d5c9d55764"
      },
      "execution_count": null,
      "outputs": [
        {
          "output_type": "stream",
          "name": "stdout",
          "text": [
            "elif\n"
          ]
        }
      ]
    },
    {
      "cell_type": "code",
      "source": [
        "(0.1+0.2)\n"
      ],
      "metadata": {
        "colab": {
          "base_uri": "https://localhost:8080/"
        },
        "id": "i_gDmGR3ZKTs",
        "outputId": "77d5789a-2d75-4a67-bd98-d914405c28f9"
      },
      "execution_count": null,
      "outputs": [
        {
          "output_type": "execute_result",
          "data": {
            "text/plain": [
              "0.30000000000000004"
            ]
          },
          "metadata": {},
          "execution_count": 64
        }
      ]
    },
    {
      "cell_type": "code",
      "source": [
        "0.3+0.4"
      ],
      "metadata": {
        "id": "z0qrv9NbZmtc",
        "outputId": "a670100a-18ba-4c15-b093-dd77069a9f8d",
        "colab": {
          "base_uri": "https://localhost:8080/"
        }
      },
      "execution_count": null,
      "outputs": [
        {
          "output_type": "execute_result",
          "data": {
            "text/plain": [
              "0.7"
            ]
          },
          "metadata": {},
          "execution_count": 65
        }
      ]
    },
    {
      "cell_type": "code",
      "source": [
        "print(\"This is \\\"great\\\" apple\")"
      ],
      "metadata": {
        "colab": {
          "base_uri": "https://localhost:8080/"
        },
        "id": "7b6z1tFaT0nZ",
        "outputId": "91ac918b-b046-4fc5-84e3-ad91adbe65ca"
      },
      "execution_count": null,
      "outputs": [
        {
          "output_type": "stream",
          "name": "stdout",
          "text": [
            "This is \"great\" apple\n"
          ]
        }
      ]
    },
    {
      "cell_type": "markdown",
      "source": [
        "# Perform operations using Data Types"
      ],
      "metadata": {
        "id": "ugQJX0AscEn9"
      }
    },
    {
      "cell_type": "code",
      "source": [
        "a=1.0"
      ],
      "metadata": {
        "id": "1Ck4kx9HcS4-"
      },
      "execution_count": null,
      "outputs": []
    },
    {
      "cell_type": "code",
      "source": [
        "#Python est un langage typé\n",
        "type(a)"
      ],
      "metadata": {
        "colab": {
          "base_uri": "https://localhost:8080/"
        },
        "id": "HMAOFoypdKLD",
        "outputId": "2efd6e8a-c229-4ca2-af04-dc2d90e0aaa5"
      },
      "execution_count": null,
      "outputs": [
        {
          "output_type": "execute_result",
          "data": {
            "text/plain": [
              "float"
            ]
          },
          "metadata": {},
          "execution_count": 8
        }
      ]
    },
    {
      "cell_type": "markdown",
      "source": [
        "**Le type String**"
      ],
      "metadata": {
        "id": "idGhzL3WeL9-"
      }
    },
    {
      "cell_type": "code",
      "source": [
        "fruit='apple'"
      ],
      "metadata": {
        "id": "VjycnyJKdoPy"
      },
      "execution_count": null,
      "outputs": []
    },
    {
      "cell_type": "code",
      "source": [
        "fruit=\"apple\""
      ],
      "metadata": {
        "id": "U-P8rSg0eYGy"
      },
      "execution_count": null,
      "outputs": []
    },
    {
      "cell_type": "code",
      "source": [
        "fruit='''apple'''"
      ],
      "metadata": {
        "id": "V09VEbIHef5L"
      },
      "execution_count": null,
      "outputs": []
    },
    {
      "cell_type": "code",
      "source": [
        "sentence=\"apple is a 'great' fruit\"\n",
        "print(sentence)"
      ],
      "metadata": {
        "colab": {
          "base_uri": "https://localhost:8080/"
        },
        "id": "ex_SVStVeqJK",
        "outputId": "27d0e330-a035-4b9c-ee9c-80c0f96615b2"
      },
      "execution_count": null,
      "outputs": [
        {
          "output_type": "stream",
          "name": "stdout",
          "text": [
            "apple is a 'great' fruit\n"
          ]
        }
      ]
    },
    {
      "cell_type": "code",
      "source": [
        "sentence=\"apple is a \\\"great\\\" fruit\"\n",
        "print(sentence)"
      ],
      "metadata": {
        "colab": {
          "base_uri": "https://localhost:8080/"
        },
        "id": "Sni9i9rQfEW6",
        "outputId": "4b6ba414-c6df-4da6-ca7c-0013e83d0fa5"
      },
      "execution_count": null,
      "outputs": [
        {
          "output_type": "stream",
          "name": "stdout",
          "text": [
            "apple is a \"great\" fruit\n"
          ]
        }
      ]
    },
    {
      "cell_type": "code",
      "source": [
        "sentence='that\\'s great'\n",
        "print(sentence)"
      ],
      "metadata": {
        "colab": {
          "base_uri": "https://localhost:8080/"
        },
        "id": "LrLTicEQfrjD",
        "outputId": "0f71f5d4-ded1-4063-a293-54ba7f8fce78"
      },
      "execution_count": null,
      "outputs": [
        {
          "output_type": "stream",
          "name": "stdout",
          "text": [
            "that's great\n"
          ]
        }
      ]
    },
    {
      "cell_type": "code",
      "source": [
        "fruit='apple'"
      ],
      "metadata": {
        "id": "kImrLJhQf-TK"
      },
      "execution_count": null,
      "outputs": []
    },
    {
      "cell_type": "code",
      "source": [
        "fruit[0]"
      ],
      "metadata": {
        "colab": {
          "base_uri": "https://localhost:8080/",
          "height": 36
        },
        "id": "2MZHDlNdgV2r",
        "outputId": "99d8c8ea-8c17-4310-f9ac-0c4104b33ecd"
      },
      "execution_count": null,
      "outputs": [
        {
          "output_type": "execute_result",
          "data": {
            "text/plain": [
              "'a'"
            ],
            "application/vnd.google.colaboratory.intrinsic+json": {
              "type": "string"
            }
          },
          "metadata": {},
          "execution_count": 19
        }
      ]
    },
    {
      "cell_type": "code",
      "source": [
        "fruit[1]"
      ],
      "metadata": {
        "colab": {
          "base_uri": "https://localhost:8080/",
          "height": 36
        },
        "id": "GsUsB8DFgZKJ",
        "outputId": "adc9251c-a9bc-4a08-c53e-6a7ce3ae5a8b"
      },
      "execution_count": null,
      "outputs": [
        {
          "output_type": "execute_result",
          "data": {
            "text/plain": [
              "'p'"
            ],
            "application/vnd.google.colaboratory.intrinsic+json": {
              "type": "string"
            }
          },
          "metadata": {},
          "execution_count": 20
        }
      ]
    },
    {
      "cell_type": "code",
      "source": [
        "#try to change a into m\n",
        "#String are immutable! -> underlying components cannot be changed\n",
        "fruit[0]='m'"
      ],
      "metadata": {
        "colab": {
          "base_uri": "https://localhost:8080/",
          "height": 190
        },
        "id": "Z9koL3-_giRB",
        "outputId": "37de9bd0-b626-48d8-c593-6589d84fda97"
      },
      "execution_count": null,
      "outputs": [
        {
          "output_type": "error",
          "ename": "TypeError",
          "evalue": "ignored",
          "traceback": [
            "\u001b[0;31m---------------------------------------------------------------------------\u001b[0m",
            "\u001b[0;31mTypeError\u001b[0m                                 Traceback (most recent call last)",
            "\u001b[0;32m<ipython-input-21-fb36a6bf058a>\u001b[0m in \u001b[0;36m<module>\u001b[0;34m\u001b[0m\n\u001b[1;32m      1\u001b[0m \u001b[0;31m#try to change a into m\u001b[0m\u001b[0;34m\u001b[0m\u001b[0;34m\u001b[0m\u001b[0m\n\u001b[0;32m----> 2\u001b[0;31m \u001b[0mfruit\u001b[0m\u001b[0;34m[\u001b[0m\u001b[0;36m0\u001b[0m\u001b[0;34m]\u001b[0m\u001b[0;34m=\u001b[0m\u001b[0;34m'm'\u001b[0m\u001b[0;34m\u001b[0m\u001b[0;34m\u001b[0m\u001b[0m\n\u001b[0m",
            "\u001b[0;31mTypeError\u001b[0m: 'str' object does not support item assignment"
          ]
        }
      ]
    },
    {
      "cell_type": "code",
      "source": [
        "#all the string can be changed but one character cannot be changed within the same string\n",
        "fruit=\"Orange\"\n",
        "print(fruit)"
      ],
      "metadata": {
        "colab": {
          "base_uri": "https://localhost:8080/"
        },
        "id": "DHptDx4bhXEI",
        "outputId": "66a3e9bb-81c3-4b4b-bbaf-2b631630630e"
      },
      "execution_count": null,
      "outputs": [
        {
          "output_type": "stream",
          "name": "stdout",
          "text": [
            "Orange\n"
          ]
        }
      ]
    },
    {
      "cell_type": "code",
      "source": [
        "#String concatenation\n",
        "fruit1='Apple'\n",
        "fruit2='Orange'\n",
        "fruit=fruit1 +' '+fruit2\n",
        "print(fruit)"
      ],
      "metadata": {
        "colab": {
          "base_uri": "https://localhost:8080/"
        },
        "id": "gyafZMkqiJCo",
        "outputId": "1a1dda8d-967e-4da7-fe47-78b75c8c584e"
      },
      "execution_count": null,
      "outputs": [
        {
          "output_type": "stream",
          "name": "stdout",
          "text": [
            "Apple Orange\n"
          ]
        }
      ]
    },
    {
      "cell_type": "code",
      "source": [
        "print(fruit1*3)"
      ],
      "metadata": {
        "colab": {
          "base_uri": "https://localhost:8080/"
        },
        "id": "-XxrE6arjNQA",
        "outputId": "95753b61-b42f-4c35-825d-adb1b15020fc"
      },
      "execution_count": null,
      "outputs": [
        {
          "output_type": "stream",
          "name": "stdout",
          "text": [
            "AppleAppleApple\n"
          ]
        }
      ]
    },
    {
      "cell_type": "code",
      "source": [
        "day='Wednesday'\n",
        "month='March'\n",
        "print(\"Today is {} within {}\".format(day,month))\n"
      ],
      "metadata": {
        "colab": {
          "base_uri": "https://localhost:8080/"
        },
        "id": "V4WnofRWjY0H",
        "outputId": "959917d2-3934-496c-a1a4-9de6b9aeee1f"
      },
      "execution_count": null,
      "outputs": [
        {
          "output_type": "stream",
          "name": "stdout",
          "text": [
            "Today is Wednesday within March\n"
          ]
        }
      ]
    },
    {
      "cell_type": "code",
      "source": [
        "day='Wednesday'\n",
        "month='March'\n",
        "print(\"Today is {0} within {1}\".format(day,month))"
      ],
      "metadata": {
        "colab": {
          "base_uri": "https://localhost:8080/"
        },
        "id": "2kwDvPjalWLG",
        "outputId": "30b56681-8102-45f3-f9dc-ec053c31eb30"
      },
      "execution_count": null,
      "outputs": [
        {
          "output_type": "stream",
          "name": "stdout",
          "text": [
            "Today is Wednesday within March\n"
          ]
        }
      ]
    },
    {
      "cell_type": "code",
      "source": [
        "day='Wednesday'\n",
        "month='March'\n",
        "print(\"Today is {1} within {0}\".format(day,month))"
      ],
      "metadata": {
        "colab": {
          "base_uri": "https://localhost:8080/"
        },
        "id": "Rrcau9GFlbnO",
        "outputId": "60cc6a86-953d-4595-8e22-5e4c97117765"
      },
      "execution_count": null,
      "outputs": [
        {
          "output_type": "stream",
          "name": "stdout",
          "text": [
            "Today is March within Wednesday\n"
          ]
        }
      ]
    },
    {
      "cell_type": "code",
      "source": [
        "day='Wednesday'\n",
        "month='March'\n",
        "print(\"Today is {1} within {0}\".format(day))"
      ],
      "metadata": {
        "colab": {
          "base_uri": "https://localhost:8080/",
          "height": 209
        },
        "id": "uGfm63akl41P",
        "outputId": "d3e4999b-cca8-4154-8b6e-1aba99fb1603"
      },
      "execution_count": null,
      "outputs": [
        {
          "output_type": "error",
          "ename": "IndexError",
          "evalue": "ignored",
          "traceback": [
            "\u001b[0;31m---------------------------------------------------------------------------\u001b[0m",
            "\u001b[0;31mIndexError\u001b[0m                                Traceback (most recent call last)",
            "\u001b[0;32m<ipython-input-32-23accd1ff41f>\u001b[0m in \u001b[0;36m<module>\u001b[0;34m\u001b[0m\n\u001b[1;32m      1\u001b[0m \u001b[0mday\u001b[0m\u001b[0;34m=\u001b[0m\u001b[0;34m'Wednesday'\u001b[0m\u001b[0;34m\u001b[0m\u001b[0;34m\u001b[0m\u001b[0m\n\u001b[1;32m      2\u001b[0m \u001b[0mmonth\u001b[0m\u001b[0;34m=\u001b[0m\u001b[0;34m'March'\u001b[0m\u001b[0;34m\u001b[0m\u001b[0;34m\u001b[0m\u001b[0m\n\u001b[0;32m----> 3\u001b[0;31m \u001b[0mprint\u001b[0m\u001b[0;34m(\u001b[0m\u001b[0;34m\"Today is {1} within {0}\"\u001b[0m\u001b[0;34m.\u001b[0m\u001b[0mformat\u001b[0m\u001b[0;34m(\u001b[0m\u001b[0mday\u001b[0m\u001b[0;34m)\u001b[0m\u001b[0;34m)\u001b[0m\u001b[0;34m\u001b[0m\u001b[0;34m\u001b[0m\u001b[0m\n\u001b[0m",
            "\u001b[0;31mIndexError\u001b[0m: Replacement index 1 out of range for positional args tuple"
          ]
        }
      ]
    },
    {
      "cell_type": "code",
      "source": [
        "#String comparison\n",
        "a=\"Hello\"\n",
        "b=\"World\"\n",
        "print(a<b)"
      ],
      "metadata": {
        "colab": {
          "base_uri": "https://localhost:8080/"
        },
        "id": "-vAOC92bmCpW",
        "outputId": "2a47a5cd-009a-4f98-ee78-989f46695dae"
      },
      "execution_count": null,
      "outputs": [
        {
          "output_type": "stream",
          "name": "stdout",
          "text": [
            "True\n"
          ]
        }
      ]
    },
    {
      "cell_type": "code",
      "source": [
        "a is b"
      ],
      "metadata": {
        "colab": {
          "base_uri": "https://localhost:8080/"
        },
        "id": "Khgs1tKImYH9",
        "outputId": "f72e854e-641f-4264-e729-ba04aa2f2238"
      },
      "execution_count": null,
      "outputs": [
        {
          "output_type": "execute_result",
          "data": {
            "text/plain": [
              "False"
            ]
          },
          "metadata": {},
          "execution_count": 35
        }
      ]
    },
    {
      "cell_type": "code",
      "source": [
        "a==b"
      ],
      "metadata": {
        "colab": {
          "base_uri": "https://localhost:8080/"
        },
        "id": "VoxOxe7nmcKd",
        "outputId": "8a947c8b-00e9-4152-b37b-aa40af6438a8"
      },
      "execution_count": null,
      "outputs": [
        {
          "output_type": "execute_result",
          "data": {
            "text/plain": [
              "False"
            ]
          },
          "metadata": {},
          "execution_count": 36
        }
      ]
    },
    {
      "cell_type": "code",
      "source": [
        "fruit1='apple'\n",
        "fruit1"
      ],
      "metadata": {
        "colab": {
          "base_uri": "https://localhost:8080/",
          "height": 36
        },
        "id": "mTihmJVlnRH9",
        "outputId": "d4f2e904-2024-421d-cc18-09261af4fc58"
      },
      "execution_count": null,
      "outputs": [
        {
          "output_type": "execute_result",
          "data": {
            "text/plain": [
              "'apple'"
            ],
            "application/vnd.google.colaboratory.intrinsic+json": {
              "type": "string"
            }
          },
          "metadata": {},
          "execution_count": 40
        }
      ]
    },
    {
      "cell_type": "code",
      "source": [
        "#Converts all caracters into upercases\n",
        "f=fruit1.upper()\n",
        "f"
      ],
      "metadata": {
        "colab": {
          "base_uri": "https://localhost:8080/",
          "height": 36
        },
        "id": "kLOI6s4LngMu",
        "outputId": "b27ce463-a2c6-44f2-b537-4ea295888fcc"
      },
      "execution_count": null,
      "outputs": [
        {
          "output_type": "execute_result",
          "data": {
            "text/plain": [
              "'APPLE'"
            ],
            "application/vnd.google.colaboratory.intrinsic+json": {
              "type": "string"
            }
          },
          "metadata": {},
          "execution_count": 49
        }
      ]
    },
    {
      "cell_type": "code",
      "source": [
        "fruit2='ORANGE'\n",
        "fruit2"
      ],
      "metadata": {
        "colab": {
          "base_uri": "https://localhost:8080/",
          "height": 36
        },
        "id": "-z_UIrggoPv0",
        "outputId": "d8922dee-f8db-4b3c-e398-88909d703fbd"
      },
      "execution_count": null,
      "outputs": [
        {
          "output_type": "execute_result",
          "data": {
            "text/plain": [
              "'ORANGE'"
            ],
            "application/vnd.google.colaboratory.intrinsic+json": {
              "type": "string"
            }
          },
          "metadata": {},
          "execution_count": 42
        }
      ]
    },
    {
      "cell_type": "code",
      "source": [
        "fruit2.lower()"
      ],
      "metadata": {
        "colab": {
          "base_uri": "https://localhost:8080/",
          "height": 36
        },
        "id": "WzdShAJdoVg0",
        "outputId": "b54150e7-c676-48f7-b854-7ba21342c41b"
      },
      "execution_count": null,
      "outputs": [
        {
          "output_type": "execute_result",
          "data": {
            "text/plain": [
              "'orange'"
            ],
            "application/vnd.google.colaboratory.intrinsic+json": {
              "type": "string"
            }
          },
          "metadata": {},
          "execution_count": 43
        }
      ]
    },
    {
      "cell_type": "code",
      "source": [
        "f.swapcase()"
      ],
      "metadata": {
        "colab": {
          "base_uri": "https://localhost:8080/",
          "height": 36
        },
        "id": "VtHdo2_UoiMn",
        "outputId": "cff8daf1-fb66-4400-ebd4-25e123f8cb22"
      },
      "execution_count": null,
      "outputs": [
        {
          "output_type": "execute_result",
          "data": {
            "text/plain": [
              "'apple'"
            ],
            "application/vnd.google.colaboratory.intrinsic+json": {
              "type": "string"
            }
          },
          "metadata": {},
          "execution_count": 48
        }
      ]
    },
    {
      "cell_type": "code",
      "source": [
        "f.capitalize()"
      ],
      "metadata": {
        "colab": {
          "base_uri": "https://localhost:8080/",
          "height": 36
        },
        "id": "Xk6EmqAEpbNU",
        "outputId": "0c4914c6-6b73-4461-d4aa-8c95e892a573"
      },
      "execution_count": null,
      "outputs": [
        {
          "output_type": "execute_result",
          "data": {
            "text/plain": [
              "'Apple'"
            ],
            "application/vnd.google.colaboratory.intrinsic+json": {
              "type": "string"
            }
          },
          "metadata": {},
          "execution_count": 53
        }
      ]
    },
    {
      "cell_type": "code",
      "source": [
        "a='  Apple  '"
      ],
      "metadata": {
        "id": "R92LfXFvpm3x"
      },
      "execution_count": null,
      "outputs": []
    },
    {
      "cell_type": "code",
      "source": [
        "#Eliminate spaces\n",
        "a.strip()"
      ],
      "metadata": {
        "colab": {
          "base_uri": "https://localhost:8080/",
          "height": 36
        },
        "id": "FDDA1G0kpxfy",
        "outputId": "8dbdce38-d6ab-4229-c4d2-9dcd382d6870"
      },
      "execution_count": null,
      "outputs": [
        {
          "output_type": "execute_result",
          "data": {
            "text/plain": [
              "'Apple'"
            ],
            "application/vnd.google.colaboratory.intrinsic+json": {
              "type": "string"
            }
          },
          "metadata": {},
          "execution_count": 52
        }
      ]
    },
    {
      "cell_type": "code",
      "source": [
        "#Eliminate spaces on the right side\n",
        "a.rstrip()"
      ],
      "metadata": {
        "colab": {
          "base_uri": "https://localhost:8080/",
          "height": 36
        },
        "id": "FJxmE06ap7pG",
        "outputId": "f57f6ed5-3930-4cd7-c077-b0c771ed2ab0"
      },
      "execution_count": null,
      "outputs": [
        {
          "output_type": "execute_result",
          "data": {
            "text/plain": [
              "'  Apple'"
            ],
            "application/vnd.google.colaboratory.intrinsic+json": {
              "type": "string"
            }
          },
          "metadata": {},
          "execution_count": 54
        }
      ]
    },
    {
      "cell_type": "code",
      "source": [
        "#Eliminate spaces on the left side\n",
        "a.lstrip()"
      ],
      "metadata": {
        "colab": {
          "base_uri": "https://localhost:8080/",
          "height": 36
        },
        "id": "sjRsylobqIvN",
        "outputId": "41861ad5-7aa2-4abf-8e72-036ebbf99345"
      },
      "execution_count": null,
      "outputs": [
        {
          "output_type": "execute_result",
          "data": {
            "text/plain": [
              "'Apple  '"
            ],
            "application/vnd.google.colaboratory.intrinsic+json": {
              "type": "string"
            }
          },
          "metadata": {},
          "execution_count": 55
        }
      ]
    },
    {
      "cell_type": "code",
      "source": [
        "#eliminate specified caracter NOT IN BETWEEN\n",
        "ba=\"zaaax Orange Orange aa\"\n",
        "ba.strip('a')"
      ],
      "metadata": {
        "colab": {
          "base_uri": "https://localhost:8080/",
          "height": 36
        },
        "id": "AFDMHGYiqoWW",
        "outputId": "346e0737-e0e5-496f-afbb-5f3439795f23"
      },
      "execution_count": null,
      "outputs": [
        {
          "output_type": "execute_result",
          "data": {
            "text/plain": [
              "'zaaax Orange Orange '"
            ],
            "application/vnd.google.colaboratory.intrinsic+json": {
              "type": "string"
            }
          },
          "metadata": {},
          "execution_count": 60
        }
      ]
    },
    {
      "cell_type": "code",
      "source": [
        "ba=\"aaa Orange Orange aa\"\n",
        "ba.strip('a')"
      ],
      "metadata": {
        "colab": {
          "base_uri": "https://localhost:8080/",
          "height": 36
        },
        "id": "wsZ7llpSrpAj",
        "outputId": "f414b0dc-ddc7-440a-b153-0a30f047e33f"
      },
      "execution_count": null,
      "outputs": [
        {
          "output_type": "execute_result",
          "data": {
            "text/plain": [
              "' Orange Orange '"
            ],
            "application/vnd.google.colaboratory.intrinsic+json": {
              "type": "string"
            }
          },
          "metadata": {},
          "execution_count": 63
        }
      ]
    },
    {
      "cell_type": "code",
      "source": [
        "#eliminate spaces as well\n",
        "ba=\"aaa Orange Orange aa\"\n",
        "ba.strip('a ')"
      ],
      "metadata": {
        "colab": {
          "base_uri": "https://localhost:8080/",
          "height": 36
        },
        "id": "uNteVUZMrhar",
        "outputId": "e3a57b8a-02f2-48fd-ccbb-a86eeb1bf89e"
      },
      "execution_count": null,
      "outputs": [
        {
          "output_type": "execute_result",
          "data": {
            "text/plain": [
              "'Orange Orange'"
            ],
            "application/vnd.google.colaboratory.intrinsic+json": {
              "type": "string"
            }
          },
          "metadata": {},
          "execution_count": 62
        }
      ]
    },
    {
      "cell_type": "code",
      "source": [
        "#isdigit() is a method built-in the class String and not in the Integer, Float...\n",
        "a='1'\n",
        "a.isdigit()"
      ],
      "metadata": {
        "colab": {
          "base_uri": "https://localhost:8080/"
        },
        "id": "ZKVS9_63r4ci",
        "outputId": "d725a9e9-fc78-4281-afea-1f2f25d7a940"
      },
      "execution_count": null,
      "outputs": [
        {
          "output_type": "execute_result",
          "data": {
            "text/plain": [
              "True"
            ]
          },
          "metadata": {},
          "execution_count": 66
        }
      ]
    },
    {
      "cell_type": "code",
      "source": [
        "#Gives the position of the first caracter of the element being searched \n",
        "#takes into account spaces\n",
        "#Starts from 0\n",
        "a='This is a great day'\n",
        "a.find('day')"
      ],
      "metadata": {
        "colab": {
          "base_uri": "https://localhost:8080/"
        },
        "id": "T8XVI4aJslAS",
        "outputId": "269813eb-6fa2-49c4-d9ca-4ccc58efac11"
      },
      "execution_count": null,
      "outputs": [
        {
          "output_type": "execute_result",
          "data": {
            "text/plain": [
              "16"
            ]
          },
          "metadata": {},
          "execution_count": 67
        }
      ]
    },
    {
      "cell_type": "code",
      "source": [
        "a='This is a great day'\n",
        "a.find(' is')"
      ],
      "metadata": {
        "colab": {
          "base_uri": "https://localhost:8080/"
        },
        "id": "dCknFfbctZTB",
        "outputId": "42bb0c0e-b430-483c-ad20-59f781cc6bd7"
      },
      "execution_count": null,
      "outputs": [
        {
          "output_type": "execute_result",
          "data": {
            "text/plain": [
              "4"
            ]
          },
          "metadata": {},
          "execution_count": 71
        }
      ]
    },
    {
      "cell_type": "code",
      "source": [
        "a='This is a great day'\n",
        "b=a.split(' ')\n",
        "b"
      ],
      "metadata": {
        "colab": {
          "base_uri": "https://localhost:8080/"
        },
        "id": "e4NVpmbotwSR",
        "outputId": "388d3a2f-544f-442e-b158-5370b49a7c43"
      },
      "execution_count": null,
      "outputs": [
        {
          "output_type": "execute_result",
          "data": {
            "text/plain": [
              "['This', 'is', 'a', 'great', 'day']"
            ]
          },
          "metadata": {},
          "execution_count": 79
        }
      ]
    },
    {
      "cell_type": "markdown",
      "source": [
        "**Le Type Number**"
      ],
      "metadata": {
        "id": "On4mhTKPxsrg"
      }
    },
    {
      "cell_type": "markdown",
      "source": [
        "we have two number types: Integer and Float"
      ],
      "metadata": {
        "id": "flDUYTnQyau3"
      }
    },
    {
      "cell_type": "code",
      "source": [
        "a=5\n",
        "b=1.2\n",
        "print(type(a),type(b))\n",
        "#numbers have no limit in length"
      ],
      "metadata": {
        "colab": {
          "base_uri": "https://localhost:8080/"
        },
        "id": "Rdv7PPczx9X-",
        "outputId": "04a79e53-5f75-4d9c-8dc1-dd9ea4bb3107"
      },
      "execution_count": null,
      "outputs": [
        {
          "output_type": "stream",
          "name": "stdout",
          "text": [
            "<class 'int'> <class 'float'>\n"
          ]
        }
      ]
    },
    {
      "cell_type": "code",
      "source": [
        "a+b\n",
        "a-b\n",
        "a*b\n",
        "a**b\n",
        "print(a/b)\n",
        "c=a//b #gives the integer part of the result\n",
        "print(c)\n",
        "a%b #gives the integer rest of the euclidian division\n",
        "a+b #the output between float and integer is ALWAYS float\n"
      ],
      "metadata": {
        "colab": {
          "base_uri": "https://localhost:8080/"
        },
        "id": "Wc_R23WKyzDW",
        "outputId": "475ccb2e-59fb-46e7-d8de-f72d51930f5b"
      },
      "execution_count": null,
      "outputs": [
        {
          "output_type": "stream",
          "name": "stdout",
          "text": [
            "4.166666666666667\n",
            "4.0\n"
          ]
        },
        {
          "output_type": "execute_result",
          "data": {
            "text/plain": [
              "6.2"
            ]
          },
          "metadata": {},
          "execution_count": 92
        }
      ]
    },
    {
      "cell_type": "markdown",
      "source": [
        "**Le type Boolean**"
      ],
      "metadata": {
        "id": "zjc-qJgh0Yxe"
      }
    },
    {
      "cell_type": "code",
      "source": [
        "#True any non zero\n",
        "print(bool(0))\n",
        "print(bool())\n",
        "print(bool(' '))\n",
        "print(bool('sth'))\n",
        "print(bool(5))"
      ],
      "metadata": {
        "colab": {
          "base_uri": "https://localhost:8080/"
        },
        "id": "z03A6vU40bxd",
        "outputId": "4a38bce4-a813-4384-9fcc-eb489a92efa7"
      },
      "execution_count": null,
      "outputs": [
        {
          "output_type": "stream",
          "name": "stdout",
          "text": [
            "False\n",
            "False\n",
            "True\n",
            "True\n",
            "True\n"
          ]
        }
      ]
    },
    {
      "cell_type": "code",
      "source": [
        "print(False+1)\n",
        "print(False +5-True)\n",
        "a=True\n",
        "bool(a)"
      ],
      "metadata": {
        "colab": {
          "base_uri": "https://localhost:8080/"
        },
        "id": "TJBpHQLf1Sqd",
        "outputId": "c7d6b827-eeca-47cd-936b-58fc3f884a29"
      },
      "execution_count": null,
      "outputs": [
        {
          "output_type": "stream",
          "name": "stdout",
          "text": [
            "1\n",
            "4\n"
          ]
        },
        {
          "output_type": "execute_result",
          "data": {
            "text/plain": [
              "True"
            ]
          },
          "metadata": {},
          "execution_count": 104
        }
      ]
    },
    {
      "cell_type": "markdown",
      "source": [
        "# Collections"
      ],
      "metadata": {
        "id": "V3sfFD7B1qZV"
      }
    },
    {
      "cell_type": "markdown",
      "source": [
        "**Lists**"
      ],
      "metadata": {
        "id": "AwEzVNLX2nbr"
      }
    },
    {
      "cell_type": "code",
      "source": [
        "my_list=[1,\"orange\",2.3,False,\"pi\"]"
      ],
      "metadata": {
        "id": "Lc5yBdR82cHb"
      },
      "execution_count": null,
      "outputs": []
    },
    {
      "cell_type": "code",
      "source": [
        "my_list[0] #Extract the first element"
      ],
      "metadata": {
        "colab": {
          "base_uri": "https://localhost:8080/"
        },
        "id": "InDtL4iL3I7r",
        "outputId": "1dceec01-c40b-4c99-c9ec-e185014fb4b5"
      },
      "execution_count": null,
      "outputs": [
        {
          "output_type": "execute_result",
          "data": {
            "text/plain": [
              "1"
            ]
          },
          "metadata": {},
          "execution_count": 106
        }
      ]
    },
    {
      "cell_type": "code",
      "source": [
        "my_list[-1] #Extract the last element"
      ],
      "metadata": {
        "colab": {
          "base_uri": "https://localhost:8080/",
          "height": 36
        },
        "id": "6l0G05AC3OYL",
        "outputId": "655e5ea0-2052-4ae4-c141-4a286cbf917c"
      },
      "execution_count": null,
      "outputs": [
        {
          "output_type": "execute_result",
          "data": {
            "text/plain": [
              "'pi'"
            ],
            "application/vnd.google.colaboratory.intrinsic+json": {
              "type": "string"
            }
          },
          "metadata": {},
          "execution_count": 110
        }
      ]
    },
    {
      "cell_type": "code",
      "source": [
        "my_list1=[1,\"orange\",2.3,False,\"pi\"]\n",
        "my_list=[1.23,\"apple\",3,\"pi\"]"
      ],
      "metadata": {
        "id": "H2-Wxgph3ubc"
      },
      "execution_count": null,
      "outputs": []
    },
    {
      "cell_type": "code",
      "source": [
        "#Merges both lists \n",
        "my_list1+my_list"
      ],
      "metadata": {
        "colab": {
          "base_uri": "https://localhost:8080/"
        },
        "id": "zcbICx-L3487",
        "outputId": "23270aac-c14c-4137-e89f-9e291ca85987"
      },
      "execution_count": null,
      "outputs": [
        {
          "output_type": "execute_result",
          "data": {
            "text/plain": [
              "[1, 'orange', 2.3, False, 'pi', 1.23, 'apple', 3, 'pi']"
            ]
          },
          "metadata": {},
          "execution_count": 120
        }
      ]
    },
    {
      "cell_type": "code",
      "source": [
        "my_list1[0]=\"Marwa\"\n",
        "my_list1\n"
      ],
      "metadata": {
        "colab": {
          "base_uri": "https://localhost:8080/"
        },
        "id": "u3j04y_x4fS2",
        "outputId": "0997bf89-54fd-42ea-ba95-9f74b2d235f5"
      },
      "execution_count": null,
      "outputs": [
        {
          "output_type": "execute_result",
          "data": {
            "text/plain": [
              "['Marwa', 'orange', 2.3, False, 'pi']"
            ]
          },
          "metadata": {},
          "execution_count": 113
        }
      ]
    },
    {
      "cell_type": "code",
      "source": [
        "#Maintains the order of elements\n",
        "#Authorizes duplicate elements\n",
        "#Toelrates elements with different types\n",
        "#Authorizes to change the value of elements"
      ],
      "metadata": {
        "id": "fadREwWe4PqM"
      },
      "execution_count": null,
      "outputs": []
    },
    {
      "cell_type": "code",
      "source": [
        "#append() adds one element at the end of the list\n",
        "my_list1.append(3)\n",
        "my_list1"
      ],
      "metadata": {
        "colab": {
          "base_uri": "https://localhost:8080/"
        },
        "id": "MTA84jYZ40GK",
        "outputId": "7dc04344-48b0-4d15-c60c-5a566617412b"
      },
      "execution_count": null,
      "outputs": [
        {
          "output_type": "execute_result",
          "data": {
            "text/plain": [
              "['Marwa', 'orange', 2.3, False, 'pi', 5, '5', 3]"
            ]
          },
          "metadata": {},
          "execution_count": 117
        }
      ]
    },
    {
      "cell_type": "code",
      "source": [
        "#Appends a list of elements at the end of a pre-specfied list\n",
        "my_list1.append([5,4,7,False])\n",
        "my_list1"
      ],
      "metadata": {
        "colab": {
          "base_uri": "https://localhost:8080/"
        },
        "id": "4DRl2kRN5QfK",
        "outputId": "85b7a43c-432b-4035-cde3-016824aec0ee"
      },
      "execution_count": null,
      "outputs": [
        {
          "output_type": "execute_result",
          "data": {
            "text/plain": [
              "['Marwa', 'orange', 2.3, False, 'pi', 5, '5', 3, [5, 4, 7, False]]"
            ]
          },
          "metadata": {},
          "execution_count": 118
        }
      ]
    },
    {
      "cell_type": "code",
      "source": [
        "#Appends a list of elements at the end of a pre-specfied list\n",
        "#Merges all elements within one list\n",
        "my_list1.extend([5,4,7,False])\n",
        "my_list1"
      ],
      "metadata": {
        "colab": {
          "base_uri": "https://localhost:8080/"
        },
        "id": "FG9xxC1S6dlz",
        "outputId": "13e25185-7662-4681-f5d7-4d50658ce994"
      },
      "execution_count": null,
      "outputs": [
        {
          "output_type": "execute_result",
          "data": {
            "text/plain": [
              "[1, 'orange', 2.3, False, 'pi', 5, 4, 7, False]"
            ]
          },
          "metadata": {},
          "execution_count": 121
        }
      ]
    },
    {
      "cell_type": "code",
      "source": [
        "my_list1.insert(-1,'A')\n",
        "my_list1"
      ],
      "metadata": {
        "colab": {
          "base_uri": "https://localhost:8080/"
        },
        "id": "Rrd_A_Tz604C",
        "outputId": "48a87b31-1652-420d-b923-68c8ad022df2"
      },
      "execution_count": null,
      "outputs": [
        {
          "output_type": "execute_result",
          "data": {
            "text/plain": [
              "['Apple',\n",
              " 'Apple',\n",
              " 'Apple',\n",
              " 1,\n",
              " 'orange',\n",
              " 2.3,\n",
              " False,\n",
              " 'pi',\n",
              " 5,\n",
              " 4,\n",
              " 7,\n",
              " 'Apple',\n",
              " 'Apple',\n",
              " 'Apple',\n",
              " 'A',\n",
              " False]"
            ]
          },
          "metadata": {},
          "execution_count": 128
        }
      ]
    },
    {
      "cell_type": "code",
      "source": [
        "my_list1=[1,2.3,0,5]\n",
        "sorted_list=my_list1.sort()\n",
        "print(sorted_list)"
      ],
      "metadata": {
        "colab": {
          "base_uri": "https://localhost:8080/"
        },
        "id": "R-gincIQ75k6",
        "outputId": "bc83b2e0-b146-4f51-eecc-1fc628704532"
      },
      "execution_count": null,
      "outputs": [
        {
          "output_type": "stream",
          "name": "stdout",
          "text": [
            "None\n"
          ]
        }
      ]
    },
    {
      "cell_type": "code",
      "source": [
        "#sort() arranges elements according to the alphabetic order \n",
        "#do not affect into variable\n",
        "#to use sort, the list elements should be the same type\n",
        "my_list1=['orange','Apple','banana','orange']\n",
        "my_list1.sort()\n",
        "print(my_list1)"
      ],
      "metadata": {
        "colab": {
          "base_uri": "https://localhost:8080/"
        },
        "id": "Jc-0YzGt8fVA",
        "outputId": "dcd517b0-eca5-40ec-f7b3-9f58032f38a9"
      },
      "execution_count": null,
      "outputs": [
        {
          "output_type": "stream",
          "name": "stdout",
          "text": [
            "['Apple', 'banana', 'orange', 'orange']\n"
          ]
        }
      ]
    },
    {
      "cell_type": "code",
      "source": [
        "#index() returns the index of elements according to its first occurrence\n",
        "my_list1.index('orange')"
      ],
      "metadata": {
        "colab": {
          "base_uri": "https://localhost:8080/"
        },
        "id": "CcDfcO6H9yVo",
        "outputId": "ad8cac01-312e-46dd-f1d2-dedbb67154f7"
      },
      "execution_count": null,
      "outputs": [
        {
          "output_type": "execute_result",
          "data": {
            "text/plain": [
              "2"
            ]
          },
          "metadata": {},
          "execution_count": 152
        }
      ]
    },
    {
      "cell_type": "code",
      "source": [
        "#Functions\n",
        "my_liste2=[1,2,15,4,8]\n",
        "min(my_liste2)\n",
        "max(my_liste2)\n",
        "len(my_liste2)\n",
        "sum(my_liste2)"
      ],
      "metadata": {
        "colab": {
          "base_uri": "https://localhost:8080/"
        },
        "id": "2doIfAs2-V6P",
        "outputId": "693293f5-8c54-4d71-8b50-973881c6eeb8"
      },
      "execution_count": null,
      "outputs": [
        {
          "output_type": "execute_result",
          "data": {
            "text/plain": [
              "30"
            ]
          },
          "metadata": {},
          "execution_count": 156
        }
      ]
    },
    {
      "cell_type": "code",
      "source": [
        "#Slicing\n",
        "#Indicate the posistion of starting and ending elements \n",
        "#the first element is inclusive\n",
        "#The last element is exclusive\n",
        "print(my_liste2[0:3])\n",
        "print(my_liste2[0:2])"
      ],
      "metadata": {
        "colab": {
          "base_uri": "https://localhost:8080/"
        },
        "id": "OkkSNvep-tuA",
        "outputId": "f32c61f5-1ead-4d27-8ff0-c3c0a544758f"
      },
      "execution_count": null,
      "outputs": [
        {
          "output_type": "stream",
          "name": "stdout",
          "text": [
            "[1, 2, 15]\n",
            "[1, 2]\n"
          ]
        }
      ]
    },
    {
      "cell_type": "code",
      "source": [
        "#The third parameter is the skip \n",
        "#\"skip-1\"\n",
        "my_liste2=[1,2,15,4,8]\n",
        "print(my_liste2[0:4:2])"
      ],
      "metadata": {
        "colab": {
          "base_uri": "https://localhost:8080/"
        },
        "id": "xPoKdr_3AHSW",
        "outputId": "4d80d463-d56e-4d7b-bd75-0f12f024ed8e"
      },
      "execution_count": null,
      "outputs": [
        {
          "output_type": "stream",
          "name": "stdout",
          "text": [
            "[1, 15]\n"
          ]
        }
      ]
    },
    {
      "cell_type": "code",
      "source": [
        "#Slicing with negative indices is authorized\n",
        "my_liste2=[1,2,15,4,8]\n",
        "print(my_liste2[-5:-2])\n"
      ],
      "metadata": {
        "colab": {
          "base_uri": "https://localhost:8080/"
        },
        "id": "F5Q73ZAfBEIt",
        "outputId": "fb00b2ff-3976-48fe-a34b-226c9f1b0df8"
      },
      "execution_count": null,
      "outputs": [
        {
          "output_type": "stream",
          "name": "stdout",
          "text": [
            "[]\n"
          ]
        }
      ]
    },
    {
      "cell_type": "markdown",
      "source": [
        "**Tuple**"
      ],
      "metadata": {
        "id": "t_xHmTpGC3K2"
      }
    },
    {
      "cell_type": "code",
      "source": [
        "my_tuple=(1,2,15,4,8)"
      ],
      "metadata": {
        "id": "1DL32IvyCwn2"
      },
      "execution_count": null,
      "outputs": []
    },
    {
      "cell_type": "code",
      "source": [
        "type(my_tuple)"
      ],
      "metadata": {
        "colab": {
          "base_uri": "https://localhost:8080/"
        },
        "id": "EmqlrddLDYqN",
        "outputId": "71cb67e6-e450-48af-f5ee-b9d92b6f0a86"
      },
      "execution_count": null,
      "outputs": [
        {
          "output_type": "execute_result",
          "data": {
            "text/plain": [
              "tuple"
            ]
          },
          "metadata": {},
          "execution_count": 171
        }
      ]
    },
    {
      "cell_type": "code",
      "source": [
        "my_tuple2=1,2,15,4,8\n",
        "type(my_tuple2)"
      ],
      "metadata": {
        "colab": {
          "base_uri": "https://localhost:8080/"
        },
        "id": "6mDbZ_khDeRU",
        "outputId": "e4c6da5f-2322-4376-97e8-991adde5c379"
      },
      "execution_count": null,
      "outputs": [
        {
          "output_type": "execute_result",
          "data": {
            "text/plain": [
              "tuple"
            ]
          },
          "metadata": {},
          "execution_count": 172
        }
      ]
    },
    {
      "cell_type": "code",
      "source": [
        "my_tuple[0]"
      ],
      "metadata": {
        "colab": {
          "base_uri": "https://localhost:8080/"
        },
        "id": "af6sHXPADms8",
        "outputId": "91c3b508-9caf-4f30-9147-7dfa5bf01833"
      },
      "execution_count": null,
      "outputs": [
        {
          "output_type": "execute_result",
          "data": {
            "text/plain": [
              "1"
            ]
          },
          "metadata": {},
          "execution_count": 175
        }
      ]
    },
    {
      "cell_type": "code",
      "source": [
        "#tuple is immutable\n",
        "my_tuple[0]='Marwa'"
      ],
      "metadata": {
        "colab": {
          "base_uri": "https://localhost:8080/",
          "height": 172
        },
        "id": "pzH8cc4dDy6U",
        "outputId": "24bed085-9549-47be-cf85-775edb22101d"
      },
      "execution_count": null,
      "outputs": [
        {
          "output_type": "error",
          "ename": "TypeError",
          "evalue": "ignored",
          "traceback": [
            "\u001b[0;31m---------------------------------------------------------------------------\u001b[0m",
            "\u001b[0;31mTypeError\u001b[0m                                 Traceback (most recent call last)",
            "\u001b[0;32m<ipython-input-176-c9826c30a54b>\u001b[0m in \u001b[0;36m<module>\u001b[0;34m\u001b[0m\n\u001b[0;32m----> 1\u001b[0;31m \u001b[0mmy_tuple\u001b[0m\u001b[0;34m[\u001b[0m\u001b[0;36m0\u001b[0m\u001b[0;34m]\u001b[0m\u001b[0;34m=\u001b[0m\u001b[0;34m'Marwa'\u001b[0m\u001b[0;34m\u001b[0m\u001b[0;34m\u001b[0m\u001b[0m\n\u001b[0m",
            "\u001b[0;31mTypeError\u001b[0m: 'tuple' object does not support item assignment"
          ]
        }
      ]
    },
    {
      "cell_type": "code",
      "source": [
        "my_tuple2=1,2,15,4,8,8,False\n",
        "my_tuple2"
      ],
      "metadata": {
        "colab": {
          "base_uri": "https://localhost:8080/"
        },
        "id": "2N6AtRWcEEhz",
        "outputId": "fed1346a-c0c2-4e78-f23e-e674c875728d"
      },
      "execution_count": null,
      "outputs": [
        {
          "output_type": "execute_result",
          "data": {
            "text/plain": [
              "(1, 2, 15, 4, 8, 8, False)"
            ]
          },
          "metadata": {},
          "execution_count": 178
        }
      ]
    },
    {
      "cell_type": "code",
      "source": [
        "#Maintains the order of elements\n",
        "#Authorizes duplicate elements\n",
        "#Toelrates elements with different types\n",
        "#Dos not Authorize amendments of the value of elements"
      ],
      "metadata": {
        "id": "3RSyXkbfEbC0"
      },
      "execution_count": null,
      "outputs": []
    },
    {
      "cell_type": "code",
      "source": [
        "var=1,2,15,4,8,8,False\n",
        "var2=1,2,10,4,8,8,True"
      ],
      "metadata": {
        "id": "oJId7d_VFqR7"
      },
      "execution_count": null,
      "outputs": []
    },
    {
      "cell_type": "code",
      "source": [
        "type(var)"
      ],
      "metadata": {
        "colab": {
          "base_uri": "https://localhost:8080/"
        },
        "id": "EzUVBCi6Fu80",
        "outputId": "26b1d7da-c1e0-4c39-fb16-9131e49d561f"
      },
      "execution_count": null,
      "outputs": [
        {
          "output_type": "execute_result",
          "data": {
            "text/plain": [
              "tuple"
            ]
          },
          "metadata": {},
          "execution_count": 190
        }
      ]
    },
    {
      "cell_type": "code",
      "source": [
        "#Multiple tuples could be assigned in the same line code\n",
        "my_tuplea,mytupleb,mytuplec=(1.2,888),(3.5,False),(8.99,True)\n"
      ],
      "metadata": {
        "colab": {
          "base_uri": "https://localhost:8080/"
        },
        "id": "xZmomATJGJ8T",
        "outputId": "b75a03d2-b03e-4f65-ef2f-ff0b84518d49"
      },
      "execution_count": null,
      "outputs": [
        {
          "output_type": "stream",
          "name": "stdout",
          "text": [
            "1\n"
          ]
        }
      ]
    },
    {
      "cell_type": "code",
      "source": [
        "liste=[1,2,5]\n",
        "my_tuple=tuple([1,2,15,4,8,8,False])\n",
        "print(my_tuple)\n",
        "print(liste[0]+my_tuple[6])\n"
      ],
      "metadata": {
        "colab": {
          "base_uri": "https://localhost:8080/"
        },
        "id": "AHl2g9SPUgOa",
        "outputId": "641ee6d0-81f1-464c-ccdc-ffe9c8c72784"
      },
      "execution_count": null,
      "outputs": [
        {
          "output_type": "stream",
          "name": "stdout",
          "text": [
            "(1, 2, 15, 4, 8, 8, False)\n",
            "1\n"
          ]
        }
      ]
    },
    {
      "cell_type": "markdown",
      "source": [
        "**Dictionnaire**"
      ],
      "metadata": {
        "id": "0Vdu8VFpGx76"
      }
    },
    {
      "cell_type": "code",
      "source": [
        "#First method for creating a dictionary\n",
        "d1={\"name\":\"Marwa\",\"Lastname\":\"HASNI\",\"age\":20,\"Height\":1.71}\n",
        "d1"
      ],
      "metadata": {
        "id": "o0zFkbmDRzHn",
        "colab": {
          "base_uri": "https://localhost:8080/"
        },
        "outputId": "9312a75c-b9b0-486e-ef49-0ff5f221f6c0"
      },
      "execution_count": null,
      "outputs": [
        {
          "output_type": "execute_result",
          "data": {
            "text/plain": [
              "{'name': 'Marwa', 'Lastname': 'HASNI', 'age': 20, 'Height': 1.71}"
            ]
          },
          "metadata": {},
          "execution_count": 256
        }
      ]
    },
    {
      "cell_type": "code",
      "source": [
        "#Second Method\n",
        "d2={}\n",
        "d2['name']=\"Marwa\"\n",
        "d2['Lastname']=\"HASNI\"\n",
        "d2['age']=20\n",
        "d2['Height']=1.71"
      ],
      "metadata": {
        "id": "adguVfswRzE0"
      },
      "execution_count": null,
      "outputs": []
    },
    {
      "cell_type": "code",
      "source": [
        "d2['name']=\"Najet\""
      ],
      "metadata": {
        "id": "enxxOre4Xsho"
      },
      "execution_count": null,
      "outputs": []
    },
    {
      "cell_type": "code",
      "source": [
        "d2"
      ],
      "metadata": {
        "id": "yN9UvAhZRzB9",
        "colab": {
          "base_uri": "https://localhost:8080/"
        },
        "outputId": "88d8991e-74da-4e16-c1ba-2211a0ec9878"
      },
      "execution_count": null,
      "outputs": [
        {
          "output_type": "execute_result",
          "data": {
            "text/plain": [
              "{'name': 'Najet', 'Lastname': 'HASNI', 'age': 20, 'Height': 1.71}"
            ]
          },
          "metadata": {},
          "execution_count": 258
        }
      ]
    },
    {
      "cell_type": "markdown",
      "source": [
        "**SET**"
      ],
      "metadata": {
        "id": "CDPRf2_nYLyQ"
      }
    },
    {
      "cell_type": "code",
      "source": [
        "my_set={\"apple\",\"Orange\",1.000,2.3,False,0,10.0,1.00,1,True}\n",
        "my_set"
      ],
      "metadata": {
        "colab": {
          "base_uri": "https://localhost:8080/"
        },
        "id": "NXt-KlctYLYo",
        "outputId": "87a71e17-dae4-4359-bc35-cff3e230d999"
      },
      "execution_count": null,
      "outputs": [
        {
          "output_type": "execute_result",
          "data": {
            "text/plain": [
              "{1.0, 10.0, 2.3, False, 'Orange', 'apple'}"
            ]
          },
          "metadata": {},
          "execution_count": 286
        }
      ]
    },
    {
      "cell_type": "markdown",
      "source": [
        "# Control Flow with Loops and Decision"
      ],
      "metadata": {
        "id": "ZnxXI8gCanAo"
      }
    },
    {
      "cell_type": "markdown",
      "source": [
        "**Condition If**"
      ],
      "metadata": {
        "id": "7fyBTxqta4zm"
      }
    },
    {
      "cell_type": "code",
      "source": [
        "a=5\n",
        "b=8\n",
        "if a<b:\n",
        "  print('true')"
      ],
      "metadata": {
        "id": "vHGzwQIYRy_F",
        "colab": {
          "base_uri": "https://localhost:8080/"
        },
        "outputId": "7f715e6e-f69d-44e2-f799-def58db91da5"
      },
      "execution_count": null,
      "outputs": [
        {
          "output_type": "stream",
          "name": "stdout",
          "text": [
            "true\n"
          ]
        }
      ]
    },
    {
      "cell_type": "code",
      "source": [
        "a=9\n",
        "b=8\n",
        "if a<b:\n",
        "  print('true')\n",
        "else:\n",
        "  print('False')"
      ],
      "metadata": {
        "colab": {
          "base_uri": "https://localhost:8080/"
        },
        "id": "L9tMhczebe4R",
        "outputId": "7d948b7f-4a1e-4c11-f447-b29c48208f25"
      },
      "execution_count": null,
      "outputs": [
        {
          "output_type": "stream",
          "name": "stdout",
          "text": [
            "False\n"
          ]
        }
      ]
    },
    {
      "cell_type": "markdown",
      "source": [
        "**Loop**"
      ],
      "metadata": {
        "id": "hVUxX25Ub40K"
      }
    },
    {
      "cell_type": "code",
      "source": [
        "liste=[1,5,7,8,9]\n",
        "for i in liste:\n",
        "  print(i,end=' ')"
      ],
      "metadata": {
        "colab": {
          "base_uri": "https://localhost:8080/"
        },
        "id": "q5-EjYalb1s-",
        "outputId": "5cb79c81-e632-47ee-f326-faed73de0222"
      },
      "execution_count": null,
      "outputs": [
        {
          "output_type": "stream",
          "name": "stdout",
          "text": [
            "1 5 7 8 9 "
          ]
        }
      ]
    },
    {
      "cell_type": "code",
      "source": [
        "liste=[1,5,7,8,9]\n",
        "for i in range(0,len(liste)):\n",
        "  print(liste[i])"
      ],
      "metadata": {
        "colab": {
          "base_uri": "https://localhost:8080/"
        },
        "id": "2DD1ZFvxcqm9",
        "outputId": "66f5503a-07d2-4332-b3c8-e982a919198e"
      },
      "execution_count": null,
      "outputs": [
        {
          "output_type": "stream",
          "name": "stdout",
          "text": [
            "1\n",
            "5\n",
            "7\n",
            "8\n",
            "9\n"
          ]
        }
      ]
    },
    {
      "cell_type": "code",
      "source": [
        "#range(starting element 'inclusive', ending element 'exclusive', step)\n",
        "for i in range(10,20,2):\n",
        "  print(i)"
      ],
      "metadata": {
        "colab": {
          "base_uri": "https://localhost:8080/"
        },
        "id": "RP6_osFkdW9X",
        "outputId": "a2e983fa-9339-4f61-afac-9e3a017cc5ee"
      },
      "execution_count": null,
      "outputs": [
        {
          "output_type": "stream",
          "name": "stdout",
          "text": [
            "10\n",
            "12\n",
            "14\n",
            "16\n",
            "18\n"
          ]
        }
      ]
    },
    {
      "cell_type": "code",
      "source": [
        "i=6\n",
        "while i<10:\n",
        "  print('OK')\n",
        "  i+=1"
      ],
      "metadata": {
        "id": "1J1p31ZvRy8M",
        "colab": {
          "base_uri": "https://localhost:8080/"
        },
        "outputId": "1bf63d4f-9960-45e3-857d-3c7864596b50"
      },
      "execution_count": null,
      "outputs": [
        {
          "output_type": "stream",
          "name": "stdout",
          "text": [
            "OK\n",
            "OK\n",
            "OK\n",
            "OK\n"
          ]
        }
      ]
    },
    {
      "cell_type": "markdown",
      "source": [
        "**Break Continue Pass**"
      ],
      "metadata": {
        "id": "FQT3kV1de9H0"
      }
    },
    {
      "cell_type": "code",
      "source": [
        "for i in range(1,20):\n",
        "  if i%2==0:\n",
        "    continue\n",
        "  print(i)\n",
        "\n"
      ],
      "metadata": {
        "id": "QpnLem_0Ry5E",
        "colab": {
          "base_uri": "https://localhost:8080/"
        },
        "outputId": "befa363a-bd11-470a-9e6d-ce0a8d8049f5"
      },
      "execution_count": null,
      "outputs": [
        {
          "output_type": "stream",
          "name": "stdout",
          "text": [
            "1\n",
            "3\n",
            "5\n",
            "7\n",
            "9\n",
            "11\n",
            "13\n",
            "15\n",
            "17\n",
            "19\n"
          ]
        }
      ]
    },
    {
      "cell_type": "code",
      "source": [
        "for i in range(1,20):\n",
        "\n",
        "  if i%2==0:\n",
        "    pass\n",
        "  print(i)"
      ],
      "metadata": {
        "id": "3FEKxLiiRy2S",
        "colab": {
          "base_uri": "https://localhost:8080/"
        },
        "outputId": "20eb96db-69bd-44f5-b724-599754f050f2"
      },
      "execution_count": null,
      "outputs": [
        {
          "output_type": "stream",
          "name": "stdout",
          "text": [
            "1\n",
            "2\n",
            "3\n",
            "4\n",
            "5\n",
            "6\n",
            "7\n",
            "8\n",
            "9\n",
            "10\n",
            "11\n",
            "12\n",
            "13\n",
            "14\n",
            "15\n",
            "16\n",
            "17\n",
            "18\n",
            "19\n"
          ]
        }
      ]
    },
    {
      "cell_type": "markdown",
      "source": [
        "# Perform Input/Output operations"
      ],
      "metadata": {
        "id": "FL1kbUoGiMnz"
      }
    },
    {
      "cell_type": "markdown",
      "source": [
        "**Saisir des données à partir de l'utilisateur**"
      ],
      "metadata": {
        "id": "eHPKoH5IjoWZ"
      }
    },
    {
      "cell_type": "code",
      "source": [
        "a=eval(input(\"Saisir chiffre\"))"
      ],
      "metadata": {
        "id": "5HIoAGpHRyzN",
        "colab": {
          "base_uri": "https://localhost:8080/"
        },
        "outputId": "c6db7b83-2da7-48af-8327-0eb3b3460943"
      },
      "execution_count": null,
      "outputs": [
        {
          "name": "stdout",
          "output_type": "stream",
          "text": [
            "Saisir chiffre7.2\n"
          ]
        }
      ]
    },
    {
      "cell_type": "code",
      "source": [
        "print(type(a))"
      ],
      "metadata": {
        "id": "IeIyMqInRys9",
        "colab": {
          "base_uri": "https://localhost:8080/"
        },
        "outputId": "6f5bf48a-08b9-4f1a-d626-fdb2dabd8256"
      },
      "execution_count": null,
      "outputs": [
        {
          "output_type": "stream",
          "name": "stdout",
          "text": [
            "<class 'float'>\n"
          ]
        }
      ]
    },
    {
      "cell_type": "markdown",
      "source": [
        "**Création et gestion de fichiers**"
      ],
      "metadata": {
        "id": "ZUFrNF2QjtYh"
      }
    },
    {
      "cell_type": "code",
      "source": [
        "#First method using open\n",
        "f = open(\"demofile.txt\",'r+')\n",
        "f.write(\"Hello\")\n",
        "f.close()"
      ],
      "metadata": {
        "id": "RQLwgMe4Na8N"
      },
      "execution_count": null,
      "outputs": []
    },
    {
      "cell_type": "markdown",
      "source": [
        "\n",
        "\n",
        "\"r\" - Read - Default value. Opens a file for reading, error if the file does not exist\n",
        "\n",
        "\"a\" - Append - Opens a file for appending, creates the file if it does not exist\n",
        "\n",
        "\"w\" - Write - Opens a file for writing, creates the file if it does not exist\n",
        "\n",
        "\"x\" - Create - Creates the specified file, returns an error if the file exists\n",
        "\n"
      ],
      "metadata": {
        "id": "tAGKjCupPt21"
      }
    },
    {
      "cell_type": "code",
      "source": [
        "#Second method using keyword with\n",
        "with open(\"demoFile.txt\",'w') as f:\n",
        "  f.write(\"Hello\")"
      ],
      "metadata": {
        "id": "dg9msViOnPhQ"
      },
      "execution_count": null,
      "outputs": []
    },
    {
      "cell_type": "code",
      "source": [
        "f = open(\"demofile.txt\",'r+')\n",
        "#Read the first 5 characters of the file \n",
        "print(f.read(5))\n",
        "#Reads the lines of the file #Return a list of the lines in the file\n",
        "print(f.readlines())\n",
        "f.close()"
      ],
      "metadata": {
        "id": "4taEJlw5oJE3"
      },
      "execution_count": null,
      "outputs": []
    },
    {
      "cell_type": "markdown",
      "source": [
        "# Documentation and Structure Code"
      ],
      "metadata": {
        "id": "_5Y09eTeo-ya"
      }
    },
    {
      "cell_type": "code",
      "source": [
        "#this is a comment\n",
        "''' This is how to\n",
        "write a comment upon multiple\n",
        "lines '''\n"
      ],
      "metadata": {
        "id": "imrlKV6GpiVW"
      },
      "execution_count": null,
      "outputs": []
    },
    {
      "cell_type": "code",
      "source": [
        "def somme(a,b):\n",
        "  '''this function allows\n",
        "  to sum 2 numbers'''\n",
        "  return a+b\n"
      ],
      "metadata": {
        "id": "57kWr_UXp4wd"
      },
      "execution_count": null,
      "outputs": []
    },
    {
      "cell_type": "code",
      "source": [
        "somme(5,4)"
      ],
      "metadata": {
        "colab": {
          "base_uri": "https://localhost:8080/"
        },
        "id": "WVFlDwDmqOxe",
        "outputId": "bd10c840-124d-4b77-a233-f18a96a8120f"
      },
      "execution_count": null,
      "outputs": [
        {
          "output_type": "execute_result",
          "data": {
            "text/plain": [
              "9"
            ]
          },
          "metadata": {},
          "execution_count": 338
        }
      ]
    },
    {
      "cell_type": "markdown",
      "source": [
        "**Functions **"
      ],
      "metadata": {
        "id": "yiFkU5ZvraiY"
      }
    },
    {
      "cell_type": "code",
      "source": [
        "def sp(a,b):\n",
        "  s=a+b\n",
        "  p=a*b\n",
        "  return s,p"
      ],
      "metadata": {
        "id": "pxscyLg-rdJM"
      },
      "execution_count": null,
      "outputs": []
    },
    {
      "cell_type": "code",
      "source": [
        "#Multiple outputs are allowed\n",
        "produit,somme=sp(4,5)\n",
        "print(somme,produit)"
      ],
      "metadata": {
        "colab": {
          "base_uri": "https://localhost:8080/"
        },
        "id": "zGH3Hh65rvBs",
        "outputId": "6cfe273a-9e99-4aee-c1c9-a98f571746de"
      },
      "execution_count": null,
      "outputs": [
        {
          "output_type": "stream",
          "name": "stdout",
          "text": [
            "20 9\n"
          ]
        }
      ]
    },
    {
      "cell_type": "code",
      "source": [
        "#Python allows to set a default value of a parameter\n",
        "def sp(a,b=1):\n",
        "  s=a+b\n",
        "  p=a*b\n",
        "  return s,p"
      ],
      "metadata": {
        "id": "WTivwy5atGUc"
      },
      "execution_count": null,
      "outputs": []
    },
    {
      "cell_type": "code",
      "source": [
        "#Default values should be assigned on the right\n",
        "def sp(a=1,b):\n",
        "  s=a+b\n",
        "  p=a*b\n",
        "  return s,p"
      ],
      "metadata": {
        "colab": {
          "base_uri": "https://localhost:8080/",
          "height": 130
        },
        "id": "-3C_ZIvJsRPX",
        "outputId": "e552c25a-915c-465a-9561-0249cfda861f"
      },
      "execution_count": null,
      "outputs": [
        {
          "output_type": "error",
          "ename": "SyntaxError",
          "evalue": "ignored",
          "traceback": [
            "\u001b[0;36m  File \u001b[0;32m\"<ipython-input-350-26d3207951b3>\"\u001b[0;36m, line \u001b[0;32m1\u001b[0m\n\u001b[0;31m    def sp(a=1,b):\u001b[0m\n\u001b[0m                ^\u001b[0m\n\u001b[0;31mSyntaxError\u001b[0m\u001b[0;31m:\u001b[0m non-default argument follows default argument\n"
          ]
        }
      ]
    },
    {
      "cell_type": "code",
      "source": [
        "somme,produit=sp(4,5)\n",
        "print(somme,produit)"
      ],
      "metadata": {
        "colab": {
          "base_uri": "https://localhost:8080/"
        },
        "id": "_uR7Hc54sh6U",
        "outputId": "c3af88cf-d77c-4a06-ccdb-e83d0b7ea0e6"
      },
      "execution_count": null,
      "outputs": [
        {
          "output_type": "stream",
          "name": "stdout",
          "text": [
            "9 20\n"
          ]
        }
      ]
    },
    {
      "cell_type": "code",
      "source": [
        "somme,produit=sp(4)\n",
        "print(somme,produit)"
      ],
      "metadata": {
        "colab": {
          "base_uri": "https://localhost:8080/"
        },
        "id": "2iPCQluisnXs",
        "outputId": "c8a4e315-d27d-4e5b-bfff-bfed4c935ba0"
      },
      "execution_count": null,
      "outputs": [
        {
          "output_type": "stream",
          "name": "stdout",
          "text": [
            "5 4\n"
          ]
        }
      ]
    },
    {
      "cell_type": "code",
      "source": [
        "def difference(a,b):\n",
        "  d=a-b\n",
        "  return d"
      ],
      "metadata": {
        "id": "1dPU_Uu9uRyK"
      },
      "execution_count": null,
      "outputs": []
    },
    {
      "cell_type": "code",
      "source": [
        "difference(5,6)"
      ],
      "metadata": {
        "colab": {
          "base_uri": "https://localhost:8080/"
        },
        "id": "1BmeefuEuXtr",
        "outputId": "3cc3edbc-6b97-467f-8463-dd2b3d47abe6"
      },
      "execution_count": null,
      "outputs": [
        {
          "output_type": "execute_result",
          "data": {
            "text/plain": [
              "-1"
            ]
          },
          "metadata": {},
          "execution_count": 355
        }
      ]
    },
    {
      "cell_type": "code",
      "source": [
        "difference(6,5)"
      ],
      "metadata": {
        "colab": {
          "base_uri": "https://localhost:8080/"
        },
        "id": "-AMkh6A-ucMr",
        "outputId": "2b2a106c-579b-4683-8b09-f77c5aab57dc"
      },
      "execution_count": null,
      "outputs": [
        {
          "output_type": "execute_result",
          "data": {
            "text/plain": [
              "1"
            ]
          },
          "metadata": {},
          "execution_count": 356
        }
      ]
    },
    {
      "cell_type": "code",
      "source": [
        "difference(b=6,a=5)"
      ],
      "metadata": {
        "colab": {
          "base_uri": "https://localhost:8080/"
        },
        "id": "AZSUSENpume-",
        "outputId": "86822e70-45dc-4fc6-83cb-286f8c0b1a87"
      },
      "execution_count": null,
      "outputs": [
        {
          "output_type": "execute_result",
          "data": {
            "text/plain": [
              "-1"
            ]
          },
          "metadata": {},
          "execution_count": 359
        }
      ]
    },
    {
      "cell_type": "markdown",
      "source": [
        "# Trouble Shouting and Error Handling"
      ],
      "metadata": {
        "id": "TPGO5MlRx75S"
      }
    },
    {
      "cell_type": "code",
      "source": [
        "a=input()\n",
        "b=eval(input())"
      ],
      "metadata": {
        "colab": {
          "base_uri": "https://localhost:8080/"
        },
        "id": "vVUkiL9Ez_33",
        "outputId": "999bab7e-4fff-4748-f239-b4dee0b5ab66"
      },
      "execution_count": null,
      "outputs": [
        {
          "name": "stdout",
          "output_type": "stream",
          "text": [
            "8\n",
            "0\n"
          ]
        }
      ]
    },
    {
      "cell_type": "code",
      "source": [
        "a/b"
      ],
      "metadata": {
        "colab": {
          "base_uri": "https://localhost:8080/",
          "height": 165
        },
        "id": "VA_7vGIT1IA-",
        "outputId": "d4755f6b-b182-4ab0-da97-e987d15300bf"
      },
      "execution_count": null,
      "outputs": [
        {
          "output_type": "error",
          "ename": "TypeError",
          "evalue": "ignored",
          "traceback": [
            "\u001b[0;31m---------------------------------------------------------------------------\u001b[0m",
            "\u001b[0;31mTypeError\u001b[0m                                 Traceback (most recent call last)",
            "\u001b[0;32m<ipython-input-384-aae42d317509>\u001b[0m in \u001b[0;36m<module>\u001b[0;34m\u001b[0m\n\u001b[0;32m----> 1\u001b[0;31m \u001b[0ma\u001b[0m\u001b[0;34m/\u001b[0m\u001b[0mb\u001b[0m\u001b[0;34m\u001b[0m\u001b[0;34m\u001b[0m\u001b[0m\n\u001b[0m",
            "\u001b[0;31mTypeError\u001b[0m: unsupported operand type(s) for /: 'str' and 'int'"
          ]
        }
      ]
    },
    {
      "cell_type": "code",
      "source": [
        "try:\n",
        "  c=a/b\n",
        "except ZeroDivisionError:\n",
        "  print(\"Saisir un dénominateur non null\")\n",
        "\n",
        "except TypeError:\n",
        "  print(\"Vérifier le type des données\")\n",
        "finally:\n",
        "  print(\"bye\")"
      ],
      "metadata": {
        "colab": {
          "base_uri": "https://localhost:8080/"
        },
        "id": "EaRuVHLs0Imw",
        "outputId": "39f17f0a-8643-4280-88d5-510bdbf11fa4"
      },
      "execution_count": null,
      "outputs": [
        {
          "output_type": "stream",
          "name": "stdout",
          "text": [
            "Vérifier le type des données\n",
            "bye\n"
          ]
        }
      ]
    },
    {
      "cell_type": "markdown",
      "source": [
        "# Important Classes"
      ],
      "metadata": {
        "id": "uQ2h4e7q3MSe"
      }
    },
    {
      "cell_type": "code",
      "source": [
        "from random import *"
      ],
      "metadata": {
        "id": "jqfxQi_swjp7"
      },
      "execution_count": null,
      "outputs": []
    },
    {
      "cell_type": "code",
      "source": [
        "randint(1,10)"
      ],
      "metadata": {
        "colab": {
          "base_uri": "https://localhost:8080/"
        },
        "id": "KHQK7Fbqwjmx",
        "outputId": "87d8612e-c0d5-432f-bbf0-17050ea3c359"
      },
      "execution_count": null,
      "outputs": [
        {
          "output_type": "execute_result",
          "data": {
            "text/plain": [
              "2"
            ]
          },
          "metadata": {},
          "execution_count": 396
        }
      ]
    },
    {
      "cell_type": "code",
      "source": [
        "randrange(1,10)"
      ],
      "metadata": {
        "colab": {
          "base_uri": "https://localhost:8080/"
        },
        "id": "a4SOrL8B3xcd",
        "outputId": "1f8a134d-8bc3-4e2d-fef3-a5675937fd98"
      },
      "execution_count": null,
      "outputs": [
        {
          "output_type": "execute_result",
          "data": {
            "text/plain": [
              "6"
            ]
          },
          "metadata": {},
          "execution_count": 397
        }
      ]
    },
    {
      "cell_type": "code",
      "source": [
        "liste=[\"Orange\",\"Apple\",\"Banana\",\"pepper\"]"
      ],
      "metadata": {
        "id": "IGsafKtrwjkM"
      },
      "execution_count": null,
      "outputs": []
    },
    {
      "cell_type": "code",
      "source": [
        "print(sample(liste,2))"
      ],
      "metadata": {
        "colab": {
          "base_uri": "https://localhost:8080/"
        },
        "id": "UgiPvPDowjfZ",
        "outputId": "315d05aa-c4eb-4b52-af12-217f44585087"
      },
      "execution_count": null,
      "outputs": [
        {
          "output_type": "stream",
          "name": "stdout",
          "text": [
            "['Apple', 'Banana']\n"
          ]
        }
      ]
    },
    {
      "cell_type": "code",
      "source": [
        "import datetime\n",
        "\n",
        "# get the current date and time\n",
        "now = datetime.datetime.now()\n",
        "\n",
        "print(now)"
      ],
      "metadata": {
        "colab": {
          "base_uri": "https://localhost:8080/"
        },
        "id": "tsYCrjELwzCz",
        "outputId": "7e26da6a-999f-45f8-a7db-562801e96d7d"
      },
      "execution_count": null,
      "outputs": [
        {
          "output_type": "stream",
          "name": "stdout",
          "text": [
            "2023-03-22 15:15:42.035099\n"
          ]
        }
      ]
    },
    {
      "cell_type": "code",
      "source": [
        "import datetime\n",
        "\n",
        "# get current date\n",
        "current_date = datetime.date.today()\n",
        "\n",
        "print(current_date)"
      ],
      "metadata": {
        "colab": {
          "base_uri": "https://localhost:8080/"
        },
        "id": "2MQs82dbw2PV",
        "outputId": "1310ca7d-b79f-456f-b871-89535f2efc16"
      },
      "execution_count": null,
      "outputs": [
        {
          "output_type": "stream",
          "name": "stdout",
          "text": [
            "2023-03-22\n"
          ]
        }
      ]
    },
    {
      "cell_type": "code",
      "source": [
        "import datetime\n",
        "\n",
        "d = datetime.date(2022, 12, 25)\n",
        "print(d)"
      ],
      "metadata": {
        "colab": {
          "base_uri": "https://localhost:8080/"
        },
        "id": "lyglFd4iw7xS",
        "outputId": "c5213c7c-9611-49c3-b058-a2a813845d87"
      },
      "execution_count": null,
      "outputs": [
        {
          "output_type": "stream",
          "name": "stdout",
          "text": [
            "2022-12-25\n"
          ]
        }
      ]
    },
    {
      "cell_type": "code",
      "source": [
        "from datetime import date\n",
        "\n",
        "# date object of today's date\n",
        "today = date.today() \n",
        "\n",
        "print(\"Current year:\", today.year)\n",
        "print(\"Current month:\", today.month)\n",
        "print(\"Current day:\", today.day)"
      ],
      "metadata": {
        "colab": {
          "base_uri": "https://localhost:8080/"
        },
        "id": "oG3ud-0rxJyY",
        "outputId": "313a02a1-3a06-401a-d7f6-7f87dabbaa65"
      },
      "execution_count": null,
      "outputs": [
        {
          "output_type": "stream",
          "name": "stdout",
          "text": [
            "Current year: 2023\n",
            "Current month: 3\n",
            "Current day: 22\n"
          ]
        }
      ]
    },
    {
      "cell_type": "code",
      "source": [
        "from datetime import datetime\n",
        "\n",
        "# current date and time\n",
        "now = datetime.now()\n",
        "\n",
        "t = now.strftime(\"%H:%M:%S\")\n",
        "print(\"Time:\", t)\n",
        "\n",
        "s1 = now.strftime(\"%m/%d/%Y, %H:%M:%S\")\n",
        "# mm/dd/YY H:M:S format\n",
        "print(\"s1:\", s1)\n",
        "\n",
        "s2 = now.strftime(\"%D/%B/%y, %H:%M:%S\")\n",
        "# dd/mm/YY H:M:S format\n",
        "print(\"s2:\", s2)"
      ],
      "metadata": {
        "colab": {
          "base_uri": "https://localhost:8080/"
        },
        "id": "z9ogxWCTxSbJ",
        "outputId": "080c6803-6d45-4afb-9b86-ffc7af4dc0cd"
      },
      "execution_count": null,
      "outputs": [
        {
          "output_type": "stream",
          "name": "stdout",
          "text": [
            "Time: 07:59:05\n",
            "s1: 03/24/2023, 07:59:05\n",
            "s2: 03/24/23/March/23, 07:59:05\n"
          ]
        }
      ]
    },
    {
      "cell_type": "code",
      "source": [
        "from datetime import datetime\n",
        "\n",
        "# current date and time\n",
        "now = datetime.now()\n",
        "\n",
        "t = now.strftime(\"%H:%M:%S\")\n",
        "print(\"Time:\", t)\n",
        "print(type(t))\n",
        "\n",
        "s1 = now.strftime(\"%m/%d/%Y, %H:%M:%S\")\n",
        "# mm/dd/YY H:M:S format\n",
        "print(\"s1:\", s1)\n",
        "\n",
        "s2 = now.strftime(\"%d/%m/%Y, %H:%M:%S\")\n",
        "# dd/mm/YY H:M:S format\n",
        "print(\"s2:\", s2)"
      ],
      "metadata": {
        "colab": {
          "base_uri": "https://localhost:8080/"
        },
        "id": "ly68c3eaoG_u",
        "outputId": "dc11976c-857b-498f-80b3-25561b064349"
      },
      "execution_count": null,
      "outputs": [
        {
          "output_type": "stream",
          "name": "stdout",
          "text": [
            "Time: 07:59:18\n",
            "<class 'str'>\n",
            "s1: 03/24/2023, 07:59:18\n",
            "s2: 24/03/2023, 07:59:18\n"
          ]
        }
      ]
    },
    {
      "cell_type": "markdown",
      "source": [
        "%Y - year [0001,..., 2018, 2019,..., 9999]\n",
        "\n",
        "%m - month [01, 02, ..., 11, 12]\n",
        "\n",
        "%d - day [01, 02, ..., 30, 31]\n",
        "\n",
        "%H - hour [00, 01, ..., 22, 23]\n",
        "\n",
        "%M - minute [00, 01, ..., 58, 59]\n",
        "\n",
        "%S - second [00, 01, ..., 58, 59]"
      ],
      "metadata": {
        "id": "PE1-YjwiooRO"
      }
    },
    {
      "cell_type": "code",
      "source": [
        "from datetime import datetime\n",
        "\n",
        "date_string = \"25 December, 2022\"\n",
        "print(\"date_string =\", date_string)\n",
        "\n",
        "# use strptime() to create date object\n",
        "date_object = datetime.strptime(date_string, \"%d %B, %Y\")\n",
        "\n",
        "print(\"date_object =\", date_object)"
      ],
      "metadata": {
        "colab": {
          "base_uri": "https://localhost:8080/"
        },
        "id": "H9GI_3oYotJP",
        "outputId": "1d61f022-7fd4-49a2-ba99-21740581f833"
      },
      "execution_count": null,
      "outputs": [
        {
          "output_type": "stream",
          "name": "stdout",
          "text": [
            "date_string = 25 December, 2022\n",
            "date_object = 2022-12-25 00:00:00\n"
          ]
        }
      ]
    },
    {
      "cell_type": "markdown",
      "source": [
        "%d, %B and %Y format codes are used for day, month(full name) and year respectively."
      ],
      "metadata": {
        "id": "-5TGp13RpOUF"
      }
    },
    {
      "cell_type": "code",
      "source": [
        "if((0.1+0.2)==0.3):\n",
        "  print('if')\n",
        "elif((0.3+0.4)==0.7):\n",
        "  print('elif')\n",
        "else:\n",
        "  print(\"else\")"
      ],
      "metadata": {
        "colab": {
          "base_uri": "https://localhost:8080/"
        },
        "id": "qKoe7p0zCdqL",
        "outputId": "e2135b54-1a00-487d-daf7-61e40db917ca"
      },
      "execution_count": null,
      "outputs": [
        {
          "output_type": "stream",
          "name": "stdout",
          "text": [
            "elif\n"
          ]
        }
      ]
    },
    {
      "cell_type": "code",
      "source": [
        "print(0.1+0.2)"
      ],
      "metadata": {
        "colab": {
          "base_uri": "https://localhost:8080/"
        },
        "id": "qYJS1EfUCgti",
        "outputId": "8959736d-5929-4aa9-b0b6-53c74957e2b0"
      },
      "execution_count": null,
      "outputs": [
        {
          "output_type": "stream",
          "name": "stdout",
          "text": [
            "0.30000000000000004\n"
          ]
        }
      ]
    },
    {
      "cell_type": "code",
      "source": [
        "def grosspay(hours=40, rate=25,pieces=0,piecerate=0,salary=0):\n",
        "  overtime =0\n",
        "  if pieces >0:\n",
        "    return pieces*piecerate\n",
        "  if salary >0:\n",
        "    pass\n",
        "  if hours >40:\n",
        "    overtime=(hours-40)*(1.5*rate)\n",
        "    return overtime+(40*rate)\n",
        "  else:\n",
        "    return hours*rate"
      ],
      "metadata": {
        "id": "Sprip7GlCj37"
      },
      "execution_count": null,
      "outputs": []
    },
    {
      "cell_type": "code",
      "source": [
        " grosspay(pieces=500,piecerate=4)"
      ],
      "metadata": {
        "colab": {
          "base_uri": "https://localhost:8080/"
        },
        "id": "R7H2KzRMdlUx",
        "outputId": "236fff18-b883-4c96-f547-d2847809ce0d"
      },
      "execution_count": null,
      "outputs": [
        {
          "output_type": "execute_result",
          "data": {
            "text/plain": [
              "2000"
            ]
          },
          "metadata": {},
          "execution_count": 3
        }
      ]
    },
    {
      "cell_type": "markdown",
      "source": [
        "# DateTime in Python\n",
        "\n",
        "\n",
        "En Python un instant de temps est  représenté par le type  datetime"
      ],
      "metadata": {
        "id": "kPbuRrB8JTH-"
      }
    },
    {
      "cell_type": "markdown",
      "source": [
        "**Création de variables de type datetime**"
      ],
      "metadata": {
        "id": "7usmNeVgKwiv"
      }
    },
    {
      "cell_type": "code",
      "source": [
        "#import datetime\n",
        "from datetime import datetime\n",
        "#Pour créer une variable de type datetime, il faut indiquer au moins l'année, le mois et le jour dans cet ordre\n",
        "d1=datetime(2004,4,7)\n",
        "print(d1)\n",
        "#Comme complément, on peut ajouter l'heure, la minute et la seconde, dans cet ordre\n",
        "'''Heure : nombre entre 0 et 23\n",
        "   Minutes : nombre entre 0 et 59\n",
        "   Secondes : nombre entre 0 et 59'''\n",
        "\n",
        "d2=datetime(2004,4,7,12,45,16)\n",
        "print(d2)"
      ],
      "metadata": {
        "colab": {
          "base_uri": "https://localhost:8080/"
        },
        "id": "o37xJkKHJXOq",
        "outputId": "b038cb24-372e-4df6-ce7e-c77e04934609"
      },
      "execution_count": 2,
      "outputs": [
        {
          "output_type": "stream",
          "name": "stdout",
          "text": [
            "2004-04-07 00:00:00\n",
            "2004-04-07 12:45:16\n"
          ]
        }
      ]
    },
    {
      "cell_type": "markdown",
      "source": [
        "**Récupération de données à partir d'une variable de type datetime**"
      ],
      "metadata": {
        "id": "p_etp47sK3K2"
      }
    },
    {
      "cell_type": "code",
      "source": [
        "#Soit une date \n",
        "d=datetime(2014,4,7,12,45,16)"
      ],
      "metadata": {
        "id": "sGqLpCgmK7-i"
      },
      "execution_count": 3,
      "outputs": []
    },
    {
      "cell_type": "code",
      "source": [
        "#Récupérer l'année dans une variable y\n",
        "y=d.year\n",
        "print(\"l\\'année est:\",y)\n",
        "#Récupérer le mois dans une variable y\n",
        "m=d.month\n",
        "print(\"le mois est:\",m)\n",
        "#Récupérer le jour dans une variable y\n",
        "day=d.day\n",
        "print(\"le jour est:\",day)\n",
        "#Récupérer l'heure dans une variable y\n",
        "h=d.hour\n",
        "print(\"l\\'heure est:\",h)\n",
        "#Récupérer les minutes dans une variable y\n",
        "min=d.minute\n",
        "print(\"les minutes sont:\",min)\n",
        "#Récupérer les secondes dans une variable y\n",
        "s=d.second\n",
        "print(\"les secondes sont:\",s)"
      ],
      "metadata": {
        "colab": {
          "base_uri": "https://localhost:8080/"
        },
        "id": "3VKPEAIqLHhd",
        "outputId": "3e91de25-150f-4c23-d34c-c528e386fb9a"
      },
      "execution_count": 10,
      "outputs": [
        {
          "output_type": "stream",
          "name": "stdout",
          "text": [
            "l'année est: 2014\n",
            "le mois est: 4\n",
            "le jour est: 7\n",
            "l'heure est: 12\n",
            "les minutes sont: 45\n",
            "les secondes sont: 16\n"
          ]
        }
      ]
    },
    {
      "cell_type": "markdown",
      "source": [
        "**Conversion de chaine de caractères en \n",
        "datetime**\n",
        "\n",
        "Si la date est saisie à partir d'un utilisateur (input) elle va être entrée en type \"String\". Il faudrait donc la convertir en type datetime pour pouvoir la manipuler"
      ],
      "metadata": {
        "id": "PxHDD3n5Ma32"
      }
    },
    {
      "cell_type": "markdown",
      "source": [
        "Pour convertir une chaîne en datetime, utiliser la fonction    datetime.strptime\n",
        "Cette fonction prend deux arguments : \n",
        "\n",
        "1.   La valeur de la chaine de caractères, exemple : ‘26/02/2010’\n",
        "2.   Le format de la date, exemple: ‘%d/%m/%Y’\n",
        "\n",
        "\n"
      ],
      "metadata": {
        "id": "rnPPH47JNOag"
      }
    },
    {
      "cell_type": "code",
      "source": [
        "d=datetime.strptime('26/02/2010','%d/%m/%Y')\n",
        "#les ordres doivent être respectés \n",
        "#26 reflète le jour et d est sont factorial\n",
        "#26 et d doivent être saisi au mêm rang dans la structure 'String' et 'Format'"
      ],
      "metadata": {
        "id": "WcnMbv01NWr5"
      },
      "execution_count": 12,
      "outputs": []
    },
    {
      "cell_type": "markdown",
      "source": [
        "**Divers Formats datetime**\n",
        "\n",
        "Il existe différentes formats pour affciher les composantes d'une variable datetime\n",
        "\n",
        "![1.png](data:image/png;base64,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)"
      ],
      "metadata": {
        "id": "QmekexRIN_IP"
      }
    },
    {
      "cell_type": "markdown",
      "source": [
        "**Conversion de datetime en chaine de \n",
        "caractères**\n",
        "\n",
        "\n",
        "Pour convertir une datetime en une chaîne, il faut utiliser la fonction \n",
        "datetime.strftime"
      ],
      "metadata": {
        "id": "RmrGhnriOc2-"
      }
    },
    {
      "cell_type": "code",
      "source": [
        "#Soit la variable date suivante\n",
        "d=datetime(2014,4,7,12,45,16)\n",
        "#Extraire le jour et l'afficher en tant que String\n",
        "whole_day=d.strftime('%A')\n",
        "print(\"le jour en totalité: \",whole_day)\n",
        "abr_day=d.strftime('%a')\n",
        "print(\"le jour en abbréviation: \", abr_day)\n",
        "#Extraire le jour complet, le rang du mois, l'année complète séparés par des tirets\n",
        "format_date=d.strftime('%A-%d-%Y')\n",
        "print(format_date)"
      ],
      "metadata": {
        "colab": {
          "base_uri": "https://localhost:8080/"
        },
        "id": "OtL459OxOJdR",
        "outputId": "0d475072-f8df-4db2-ed2c-8f56847b0085"
      },
      "execution_count": 26,
      "outputs": [
        {
          "output_type": "stream",
          "name": "stdout",
          "text": [
            "le jour en totalité:  Monday\n",
            "le jour en abbréviation:  Mon\n",
            "Monday-07-2014\n"
          ]
        }
      ]
    },
    {
      "cell_type": "markdown",
      "source": [
        "\n",
        "# Calcul et Gestion des durée sur Python\n",
        "Une durée de temps est \n",
        "représentée par le type \n",
        "timedelta"
      ],
      "metadata": {
        "id": "4Cgyr2XQTP1t"
      }
    },
    {
      "cell_type": "code",
      "source": [
        "#Python est capable de comparer 2 dates\n",
        "d1=datetime(2004,4,7,14,25,54)\n",
        "d2=datetime(2014,4,7,16,15,45)\n",
        "d1<d2"
      ],
      "metadata": {
        "colab": {
          "base_uri": "https://localhost:8080/"
        },
        "id": "wNFkrB6lTPnF",
        "outputId": "90c9eef1-8dc6-4972-9d0c-aef40256e260"
      },
      "execution_count": 30,
      "outputs": [
        {
          "output_type": "execute_result",
          "data": {
            "text/plain": [
              "True"
            ]
          },
          "metadata": {},
          "execution_count": 30
        }
      ]
    },
    {
      "cell_type": "code",
      "source": [
        "#On peut calculer une durée de type timedelta par la différence entre deux dates\n",
        "duree=d2-d1\n",
        "duree"
      ],
      "metadata": {
        "colab": {
          "base_uri": "https://localhost:8080/"
        },
        "id": "_xL8qGPITkX9",
        "outputId": "fd865515-ecae-48e8-96c4-9df87b255407"
      },
      "execution_count": 31,
      "outputs": [
        {
          "output_type": "execute_result",
          "data": {
            "text/plain": [
              "datetime.timedelta(days=3652, seconds=6591)"
            ]
          },
          "metadata": {},
          "execution_count": 31
        }
      ]
    },
    {
      "cell_type": "code",
      "source": [
        "# Remarquez à partir du code précédent que Une durée est composée d’une partie en jours et une partie en secondes\n",
        "print(duree.days)\n",
        "print(duree.seconds)\n"
      ],
      "metadata": {
        "colab": {
          "base_uri": "https://localhost:8080/"
        },
        "id": "MHaja2wNT-mM",
        "outputId": "de76a949-b17b-4d27-de59-0cf823918f60"
      },
      "execution_count": 33,
      "outputs": [
        {
          "output_type": "stream",
          "name": "stdout",
          "text": [
            "3652\n",
            "6591\n"
          ]
        }
      ]
    }
  ]
}